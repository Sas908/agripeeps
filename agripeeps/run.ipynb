{
 "cells": [
  {
   "cell_type": "code",
   "execution_count": 1,
   "id": "0288b338-6c3f-4505-961d-149c00327ad4",
   "metadata": {},
   "outputs": [],
   "source": [
    "%run main.py"
   ]
  },
  {
   "cell_type": "code",
   "execution_count": 2,
   "id": "fc92e93b-dfbb-4c3f-b9df-0bc906d0c3a7",
   "metadata": {},
   "outputs": [],
   "source": [
    "product_iri = ProductIRI(\"https://vocab.sentier.dev/products/\")"
   ]
  },
  {
   "cell_type": "code",
   "execution_count": 3,
   "id": "beed2575-cdaf-460b-9b17-069af6545b3f",
   "metadata": {},
   "outputs": [],
   "source": [
    "amount = 7"
   ]
  },
  {
   "cell_type": "code",
   "execution_count": 4,
   "id": "68abead4-a350-4e1c-a980-e918ee06c131",
   "metadata": {},
   "outputs": [],
   "source": [
    "user_input = UserInput(\n",
    "    product_iri=product_iri,\n",
    "    unit = 'kg',\n",
    "    amount=amount\n",
    ")"
   ]
  },
  {
   "cell_type": "code",
   "execution_count": 5,
   "id": "ad8a2a88-c7bb-4c6e-8aa1-6afa668b939f",
   "metadata": {},
   "outputs": [
    {
     "data": {
      "text/plain": [
       "UserInput(product_iri=ProductIRI('https://vocab.sentier.dev/products/'), unit='kg', amount=7.0, crop_yield=None, fertilizer_amount=None, begin_date=None, end_date=None)"
      ]
     },
     "execution_count": 5,
     "metadata": {},
     "output_type": "execute_result"
    }
   ],
   "source": [
    "user_input"
   ]
  },
  {
   "cell_type": "code",
   "execution_count": 6,
   "id": "8aea2f8d-6ae3-4d5d-b3f9-b6356eedde46",
   "metadata": {},
   "outputs": [],
   "source": [
    "run_config = RunConfig()"
   ]
  },
  {
   "cell_type": "code",
   "execution_count": 7,
   "id": "37116239-07bd-469e-a7ab-899c1225c995",
   "metadata": {},
   "outputs": [],
   "source": [
    "crop = Crop(user_input = user_input, run_config = run_config)"
   ]
  },
  {
   "cell_type": "code",
   "execution_count": 8,
   "id": "44aef00b-2c83-4928-ae48-dd7d7e8fccd0",
   "metadata": {},
   "outputs": [
    {
     "name": "stderr",
     "output_type": "stream",
     "text": [
      "INFO: Getting master db\n",
      "INFO: Getting crop yield and fertilizer amount\n",
      "INFO: Getting emission from fertilizer\n"
     ]
    },
    {
     "name": "stdout",
     "output_type": "stream",
     "text": [
      "wet [{'value': [1.76], 'min': [1.43], 'max': [2.09], 'sd': [0.165], 'methodModelDescription': 'Disaggregated version'}]\n",
      "dry [{'value': [0.55], 'min': [0.0], 'max': [1.21], 'sd': [0.3025], 'methodModelDescription': 'Disaggregated version'}]\n"
     ]
    }
   ],
   "source": [
    "resulting_demands = crop.run()"
   ]
  },
  {
   "cell_type": "code",
   "execution_count": 9,
   "id": "b3f25220-515f-4474-89d5-f3d2427fba02",
   "metadata": {},
   "outputs": [],
   "source": [
    "resulting_demands"
   ]
  },
  {
   "cell_type": "markdown",
   "id": "b825b735-a3e7-49d5-98a2-2ca803e62ac7",
   "metadata": {},
   "source": [
    "# Main tst SentierModel"
   ]
  },
  {
   "cell_type": "code",
   "execution_count": 3,
   "id": "9981d8dc-665d-4dfc-bcfd-4587b8a39073",
   "metadata": {},
   "outputs": [
    {
     "ename": "ModuleNotFoundError",
     "evalue": "No module named 'sentier_data_tools.model'",
     "output_type": "error",
     "traceback": [
      "\u001b[0;31m---------------------------------------------------------------------------\u001b[0m",
      "\u001b[0;31mModuleNotFoundError\u001b[0m                       Traceback (most recent call last)",
      "Cell \u001b[0;32mIn[3], line 1\u001b[0m\n\u001b[0;32m----> 1\u001b[0m \u001b[38;5;28;01mimport\u001b[39;00m \u001b[38;5;21;01msentier_data_tools\u001b[39;00m\n",
      "File \u001b[0;32m~/.local/lib/python3.12/site-packages/sentier_data_tools/__init__.py:37\u001b[0m\n\u001b[1;32m     24\u001b[0m \u001b[38;5;28;01mfrom\u001b[39;00m \u001b[38;5;21;01msentier_data_tools\u001b[39;00m\u001b[38;5;21;01m.\u001b[39;00m\u001b[38;5;21;01miri\u001b[39;00m \u001b[38;5;28;01mimport\u001b[39;00m (\n\u001b[1;32m     25\u001b[0m     FlowIRI,\n\u001b[1;32m     26\u001b[0m     GeonamesIRI,\n\u001b[0;32m   (...)\u001b[0m\n\u001b[1;32m     29\u001b[0m     UnitIRI,\n\u001b[1;32m     30\u001b[0m )\n\u001b[1;32m     31\u001b[0m \u001b[38;5;28;01mfrom\u001b[39;00m \u001b[38;5;21;01msentier_data_tools\u001b[39;00m\u001b[38;5;21;01m.\u001b[39;00m\u001b[38;5;21;01mlocal_storage\u001b[39;00m \u001b[38;5;28;01mimport\u001b[39;00m (\n\u001b[1;32m     32\u001b[0m     Dataset,\n\u001b[1;32m     33\u001b[0m     DatasetKind,\n\u001b[1;32m     34\u001b[0m     DefaultDataSource,\n\u001b[1;32m     35\u001b[0m     reset_local_database,\n\u001b[1;32m     36\u001b[0m )\n\u001b[0;32m---> 37\u001b[0m \u001b[38;5;28;01mfrom\u001b[39;00m \u001b[38;5;21;01msentier_data_tools\u001b[39;00m\u001b[38;5;21;01m.\u001b[39;00m\u001b[38;5;21;01mmodel\u001b[39;00m \u001b[38;5;28;01mimport\u001b[39;00m Demand, Flow, RunConfig, SentierModel\n",
      "\u001b[0;31mModuleNotFoundError\u001b[0m: No module named 'sentier_data_tools.model'"
     ]
    }
   ],
   "source": [
    "import sentier_data_tools"
   ]
  },
  {
   "cell_type": "code",
   "execution_count": 4,
   "id": "2c0388a3-6c3e-4ea8-8271-55ec64325f56",
   "metadata": {},
   "outputs": [
    {
     "ename": "NameError",
     "evalue": "name 'sentier_data_tools' is not defined",
     "output_type": "error",
     "traceback": [
      "\u001b[0;31m---------------------------------------------------------------------------\u001b[0m",
      "\u001b[0;31mNameError\u001b[0m                                 Traceback (most recent call last)",
      "Cell \u001b[0;32mIn[4], line 1\u001b[0m\n\u001b[0;32m----> 1\u001b[0m \u001b[43msentier_data_tools\u001b[49m\u001b[38;5;241m.\u001b[39m__version__\n",
      "\u001b[0;31mNameError\u001b[0m: name 'sentier_data_tools' is not defined"
     ]
    }
   ],
   "source": [
    "sentier_data_tools.__version__"
   ]
  },
  {
   "cell_type": "code",
   "execution_count": 1,
   "id": "6a237746-9c27-45ed-a813-de664d186834",
   "metadata": {},
   "outputs": [
    {
     "name": "stdout",
     "output_type": "stream",
     "text": [
      "Defaulting to user installation because normal site-packages is not writeable\n",
      "Requirement already satisfied: sentier_data_tools==0.3.0 in /home/jupyter-jbrun52/.local/lib/python3.12/site-packages (0.3)\n",
      "Requirement already satisfied: openpyxl in /opt/tljh/user/envs/sentier/lib/python3.12/site-packages (from sentier_data_tools==0.3.0) (3.1.5)\n",
      "Requirement already satisfied: pandas in /opt/tljh/user/envs/sentier/lib/python3.12/site-packages (from sentier_data_tools==0.3.0) (2.2.3)\n",
      "Requirement already satisfied: peewee in /opt/tljh/user/envs/sentier/lib/python3.12/site-packages (from sentier_data_tools==0.3.0) (3.17.6)\n",
      "Requirement already satisfied: peewee-enum-field in /home/jupyter-jbrun52/.local/lib/python3.12/site-packages (from sentier_data_tools==0.3.0) (0.2.0)\n",
      "Requirement already satisfied: platformdirs in /opt/tljh/user/envs/sentier/lib/python3.12/site-packages (from sentier_data_tools==0.3.0) (4.3.6)\n",
      "Requirement already satisfied: pyarrow in /opt/tljh/user/envs/sentier/lib/python3.12/site-packages (from sentier_data_tools==0.3.0) (17.0.0)\n",
      "Requirement already satisfied: pydantic in /opt/tljh/user/envs/sentier/lib/python3.12/site-packages (from sentier_data_tools==0.3.0) (1.10.17)\n",
      "Requirement already satisfied: rdflib in /opt/tljh/user/envs/sentier/lib/python3.12/site-packages (from sentier_data_tools==0.3.0) (7.0.0)\n",
      "Requirement already satisfied: rfc3987 in /home/jupyter-jbrun52/.local/lib/python3.12/site-packages (from sentier_data_tools==0.3.0) (1.3.8)\n",
      "Requirement already satisfied: SPARQLWrapper in /opt/tljh/user/envs/sentier/lib/python3.12/site-packages (from sentier_data_tools==0.3.0) (2.0.0)\n",
      "Requirement already satisfied: structlog in /opt/tljh/user/envs/sentier/lib/python3.12/site-packages (from sentier_data_tools==0.3.0) (24.4.0)\n",
      "Requirement already satisfied: et-xmlfile in /opt/tljh/user/envs/sentier/lib/python3.12/site-packages (from openpyxl->sentier_data_tools==0.3.0) (1.1.0)\n",
      "Requirement already satisfied: numpy>=1.26.0 in /opt/tljh/user/envs/sentier/lib/python3.12/site-packages (from pandas->sentier_data_tools==0.3.0) (2.1.2)\n",
      "Requirement already satisfied: python-dateutil>=2.8.2 in /opt/tljh/user/envs/sentier/lib/python3.12/site-packages (from pandas->sentier_data_tools==0.3.0) (2.9.0)\n",
      "Requirement already satisfied: pytz>=2020.1 in /opt/tljh/user/envs/sentier/lib/python3.12/site-packages (from pandas->sentier_data_tools==0.3.0) (2024.1)\n",
      "Requirement already satisfied: tzdata>=2022.7 in /opt/tljh/user/envs/sentier/lib/python3.12/site-packages (from pandas->sentier_data_tools==0.3.0) (2024.2)\n",
      "Requirement already satisfied: typing-extensions>=4.2.0 in /opt/tljh/user/envs/sentier/lib/python3.12/site-packages (from pydantic->sentier_data_tools==0.3.0) (4.12.2)\n",
      "Requirement already satisfied: isodate<0.7.0,>=0.6.0 in /opt/tljh/user/envs/sentier/lib/python3.12/site-packages (from rdflib->sentier_data_tools==0.3.0) (0.6.1)\n",
      "Requirement already satisfied: pyparsing<4,>=2.1.0 in /opt/tljh/user/envs/sentier/lib/python3.12/site-packages (from rdflib->sentier_data_tools==0.3.0) (3.1.4)\n",
      "Requirement already satisfied: six in /opt/tljh/user/envs/sentier/lib/python3.12/site-packages (from isodate<0.7.0,>=0.6.0->rdflib->sentier_data_tools==0.3.0) (1.16.0)\n"
     ]
    }
   ],
   "source": [
    "!pip install sentier_data_tools==0.3.0"
   ]
  },
  {
   "cell_type": "code",
   "execution_count": 8,
   "id": "39d124c8-38bd-4f98-9745-6238b258def9",
   "metadata": {},
   "outputs": [
    {
     "ename": "ImportError",
     "evalue": "cannot import name 'SentierModel' from 'sentier_data_tools' (/opt/tljh/user/envs/sentier/lib/python3.12/site-packages/sentier_data_tools/__init__.py)",
     "output_type": "error",
     "traceback": [
      "\u001b[0;31m---------------------------------------------------------------------------\u001b[0m",
      "\u001b[0;31mImportError\u001b[0m                               Traceback (most recent call last)",
      "File \u001b[0;32m~/Schools-2024-October-Switzerland/Projects/agripeeps/agripeeps/main_tst.py:11\u001b[0m\n\u001b[1;32m      8\u001b[0m logging\u001b[38;5;241m.\u001b[39mbasicConfig(level\u001b[38;5;241m=\u001b[39mlogging\u001b[38;5;241m.\u001b[39mINFO, \u001b[38;5;28mformat\u001b[39m\u001b[38;5;241m=\u001b[39m\u001b[38;5;124m'\u001b[39m\u001b[38;5;132;01m%(levelname)s\u001b[39;00m\u001b[38;5;124m: \u001b[39m\u001b[38;5;132;01m%(message)s\u001b[39;00m\u001b[38;5;124m'\u001b[39m)\n\u001b[1;32m     10\u001b[0m \u001b[38;5;28;01mfrom\u001b[39;00m \u001b[38;5;21;01msentier_data_tools\u001b[39;00m\u001b[38;5;21;01m.\u001b[39;00m\u001b[38;5;21;01miri\u001b[39;00m \u001b[38;5;28;01mimport\u001b[39;00m ProductIRI \u001b[38;5;66;03m#, GeonamesIRI\u001b[39;00m\n\u001b[0;32m---> 11\u001b[0m \u001b[38;5;28;01mfrom\u001b[39;00m \u001b[38;5;21;01msentier_data_tools\u001b[39;00m \u001b[38;5;28;01mimport\u001b[39;00m SentierModel\n\u001b[1;32m     12\u001b[0m \u001b[38;5;28;01mimport\u001b[39;00m \u001b[38;5;21;01mn2OToAirInorganicFertiliserDirect\u001b[39;00m \u001b[38;5;28;01mas\u001b[39;00m \u001b[38;5;21;01mn2o\u001b[39;00m\n\u001b[1;32m     14\u001b[0m \u001b[38;5;66;03m## Attention : I would like demand to come from user input, I need mapping from natural language to IRI for product and geonames\u001b[39;00m\n",
      "\u001b[0;31mImportError\u001b[0m: cannot import name 'SentierModel' from 'sentier_data_tools' (/opt/tljh/user/envs/sentier/lib/python3.12/site-packages/sentier_data_tools/__init__.py)"
     ]
    }
   ],
   "source": [
    "%run main_tst.py"
   ]
  },
  {
   "cell_type": "markdown",
   "id": "afaadba9-4511-497d-9503-5184ef7e0e04",
   "metadata": {},
   "source": [
    "# Data.py"
   ]
  },
  {
   "cell_type": "code",
   "execution_count": 14,
   "id": "49e01b60-3a47-4385-820a-11a65693c1f2",
   "metadata": {},
   "outputs": [],
   "source": [
    "import data"
   ]
  },
  {
   "cell_type": "code",
   "execution_count": 15,
   "id": "5b48ff53-8e39-4bf6-8caa-9fd861777e00",
   "metadata": {},
   "outputs": [
    {
     "ename": "FileNotFoundError",
     "evalue": "[Errno 2] No such file or directory: '/home/jupyter-jbrun52/Schools-2024-October-Switzerland/Projects/agripeeps/agripeeps/electrolyzers.xlsx'",
     "output_type": "error",
     "traceback": [
      "\u001b[0;31m---------------------------------------------------------------------------\u001b[0m",
      "\u001b[0;31mFileNotFoundError\u001b[0m                         Traceback (most recent call last)",
      "Cell \u001b[0;32mIn[15], line 1\u001b[0m\n\u001b[0;32m----> 1\u001b[0m \u001b[43mdata\u001b[49m\u001b[38;5;241;43m.\u001b[39;49m\u001b[43mcreate_example_local_datastorage\u001b[49m\u001b[43m(\u001b[49m\u001b[43m)\u001b[49m\n",
      "File \u001b[0;32m~/Schools-2024-October-Switzerland/Projects/agripeeps/agripeeps/data.py:14\u001b[0m, in \u001b[0;36mcreate_example_local_datastorage\u001b[0;34m(reset)\u001b[0m\n\u001b[1;32m     11\u001b[0m \u001b[38;5;28;01mif\u001b[39;00m reset:\n\u001b[1;32m     12\u001b[0m     sdt\u001b[38;5;241m.\u001b[39mreset_local_database()\n\u001b[0;32m---> 14\u001b[0m df \u001b[38;5;241m=\u001b[39m \u001b[43mpd\u001b[49m\u001b[38;5;241;43m.\u001b[39;49m\u001b[43mread_excel\u001b[49m\u001b[43m(\u001b[49m\u001b[43mPath\u001b[49m\u001b[43m(\u001b[49m\u001b[38;5;18;43m__file__\u001b[39;49m\u001b[43m)\u001b[49m\u001b[38;5;241;43m.\u001b[39;49m\u001b[43mparent\u001b[49m\u001b[43m \u001b[49m\u001b[38;5;241;43m/\u001b[39;49m\u001b[43m \u001b[49m\u001b[38;5;124;43m\"\u001b[39;49m\u001b[38;5;124;43melectrolyzers.xlsx\u001b[39;49m\u001b[38;5;124;43m\"\u001b[39;49m\u001b[43m)\u001b[49m\n\u001b[1;32m     15\u001b[0m \u001b[38;5;28;01massert\u001b[39;00m \u001b[38;5;28mlen\u001b[39m(COLUMNS) \u001b[38;5;241m==\u001b[39m \u001b[38;5;28mlen\u001b[39m(UNITS)\n\u001b[1;32m     16\u001b[0m \u001b[38;5;28;01massert\u001b[39;00m \u001b[38;5;28mlen\u001b[39m(COLUMNS) \u001b[38;5;241m==\u001b[39m \u001b[38;5;28mlen\u001b[39m(df\u001b[38;5;241m.\u001b[39mcolumns) \u001b[38;5;241m-\u001b[39m \u001b[38;5;241m1\u001b[39m\n",
      "File \u001b[0;32m/opt/tljh/user/envs/sentier/lib/python3.12/site-packages/pandas/io/excel/_base.py:495\u001b[0m, in \u001b[0;36mread_excel\u001b[0;34m(io, sheet_name, header, names, index_col, usecols, dtype, engine, converters, true_values, false_values, skiprows, nrows, na_values, keep_default_na, na_filter, verbose, parse_dates, date_parser, date_format, thousands, decimal, comment, skipfooter, storage_options, dtype_backend, engine_kwargs)\u001b[0m\n\u001b[1;32m    493\u001b[0m \u001b[38;5;28;01mif\u001b[39;00m \u001b[38;5;129;01mnot\u001b[39;00m \u001b[38;5;28misinstance\u001b[39m(io, ExcelFile):\n\u001b[1;32m    494\u001b[0m     should_close \u001b[38;5;241m=\u001b[39m \u001b[38;5;28;01mTrue\u001b[39;00m\n\u001b[0;32m--> 495\u001b[0m     io \u001b[38;5;241m=\u001b[39m \u001b[43mExcelFile\u001b[49m\u001b[43m(\u001b[49m\n\u001b[1;32m    496\u001b[0m \u001b[43m        \u001b[49m\u001b[43mio\u001b[49m\u001b[43m,\u001b[49m\n\u001b[1;32m    497\u001b[0m \u001b[43m        \u001b[49m\u001b[43mstorage_options\u001b[49m\u001b[38;5;241;43m=\u001b[39;49m\u001b[43mstorage_options\u001b[49m\u001b[43m,\u001b[49m\n\u001b[1;32m    498\u001b[0m \u001b[43m        \u001b[49m\u001b[43mengine\u001b[49m\u001b[38;5;241;43m=\u001b[39;49m\u001b[43mengine\u001b[49m\u001b[43m,\u001b[49m\n\u001b[1;32m    499\u001b[0m \u001b[43m        \u001b[49m\u001b[43mengine_kwargs\u001b[49m\u001b[38;5;241;43m=\u001b[39;49m\u001b[43mengine_kwargs\u001b[49m\u001b[43m,\u001b[49m\n\u001b[1;32m    500\u001b[0m \u001b[43m    \u001b[49m\u001b[43m)\u001b[49m\n\u001b[1;32m    501\u001b[0m \u001b[38;5;28;01melif\u001b[39;00m engine \u001b[38;5;129;01mand\u001b[39;00m engine \u001b[38;5;241m!=\u001b[39m io\u001b[38;5;241m.\u001b[39mengine:\n\u001b[1;32m    502\u001b[0m     \u001b[38;5;28;01mraise\u001b[39;00m \u001b[38;5;167;01mValueError\u001b[39;00m(\n\u001b[1;32m    503\u001b[0m         \u001b[38;5;124m\"\u001b[39m\u001b[38;5;124mEngine should not be specified when passing \u001b[39m\u001b[38;5;124m\"\u001b[39m\n\u001b[1;32m    504\u001b[0m         \u001b[38;5;124m\"\u001b[39m\u001b[38;5;124man ExcelFile - ExcelFile already has the engine set\u001b[39m\u001b[38;5;124m\"\u001b[39m\n\u001b[1;32m    505\u001b[0m     )\n",
      "File \u001b[0;32m/opt/tljh/user/envs/sentier/lib/python3.12/site-packages/pandas/io/excel/_base.py:1550\u001b[0m, in \u001b[0;36mExcelFile.__init__\u001b[0;34m(self, path_or_buffer, engine, storage_options, engine_kwargs)\u001b[0m\n\u001b[1;32m   1548\u001b[0m     ext \u001b[38;5;241m=\u001b[39m \u001b[38;5;124m\"\u001b[39m\u001b[38;5;124mxls\u001b[39m\u001b[38;5;124m\"\u001b[39m\n\u001b[1;32m   1549\u001b[0m \u001b[38;5;28;01melse\u001b[39;00m:\n\u001b[0;32m-> 1550\u001b[0m     ext \u001b[38;5;241m=\u001b[39m \u001b[43minspect_excel_format\u001b[49m\u001b[43m(\u001b[49m\n\u001b[1;32m   1551\u001b[0m \u001b[43m        \u001b[49m\u001b[43mcontent_or_path\u001b[49m\u001b[38;5;241;43m=\u001b[39;49m\u001b[43mpath_or_buffer\u001b[49m\u001b[43m,\u001b[49m\u001b[43m \u001b[49m\u001b[43mstorage_options\u001b[49m\u001b[38;5;241;43m=\u001b[39;49m\u001b[43mstorage_options\u001b[49m\n\u001b[1;32m   1552\u001b[0m \u001b[43m    \u001b[49m\u001b[43m)\u001b[49m\n\u001b[1;32m   1553\u001b[0m     \u001b[38;5;28;01mif\u001b[39;00m ext \u001b[38;5;129;01mis\u001b[39;00m \u001b[38;5;28;01mNone\u001b[39;00m:\n\u001b[1;32m   1554\u001b[0m         \u001b[38;5;28;01mraise\u001b[39;00m \u001b[38;5;167;01mValueError\u001b[39;00m(\n\u001b[1;32m   1555\u001b[0m             \u001b[38;5;124m\"\u001b[39m\u001b[38;5;124mExcel file format cannot be determined, you must specify \u001b[39m\u001b[38;5;124m\"\u001b[39m\n\u001b[1;32m   1556\u001b[0m             \u001b[38;5;124m\"\u001b[39m\u001b[38;5;124man engine manually.\u001b[39m\u001b[38;5;124m\"\u001b[39m\n\u001b[1;32m   1557\u001b[0m         )\n",
      "File \u001b[0;32m/opt/tljh/user/envs/sentier/lib/python3.12/site-packages/pandas/io/excel/_base.py:1402\u001b[0m, in \u001b[0;36minspect_excel_format\u001b[0;34m(content_or_path, storage_options)\u001b[0m\n\u001b[1;32m   1399\u001b[0m \u001b[38;5;28;01mif\u001b[39;00m \u001b[38;5;28misinstance\u001b[39m(content_or_path, \u001b[38;5;28mbytes\u001b[39m):\n\u001b[1;32m   1400\u001b[0m     content_or_path \u001b[38;5;241m=\u001b[39m BytesIO(content_or_path)\n\u001b[0;32m-> 1402\u001b[0m \u001b[38;5;28;01mwith\u001b[39;00m \u001b[43mget_handle\u001b[49m\u001b[43m(\u001b[49m\n\u001b[1;32m   1403\u001b[0m \u001b[43m    \u001b[49m\u001b[43mcontent_or_path\u001b[49m\u001b[43m,\u001b[49m\u001b[43m \u001b[49m\u001b[38;5;124;43m\"\u001b[39;49m\u001b[38;5;124;43mrb\u001b[39;49m\u001b[38;5;124;43m\"\u001b[39;49m\u001b[43m,\u001b[49m\u001b[43m \u001b[49m\u001b[43mstorage_options\u001b[49m\u001b[38;5;241;43m=\u001b[39;49m\u001b[43mstorage_options\u001b[49m\u001b[43m,\u001b[49m\u001b[43m \u001b[49m\u001b[43mis_text\u001b[49m\u001b[38;5;241;43m=\u001b[39;49m\u001b[38;5;28;43;01mFalse\u001b[39;49;00m\n\u001b[1;32m   1404\u001b[0m \u001b[43m\u001b[49m\u001b[43m)\u001b[49m \u001b[38;5;28;01mas\u001b[39;00m handle:\n\u001b[1;32m   1405\u001b[0m     stream \u001b[38;5;241m=\u001b[39m handle\u001b[38;5;241m.\u001b[39mhandle\n\u001b[1;32m   1406\u001b[0m     stream\u001b[38;5;241m.\u001b[39mseek(\u001b[38;5;241m0\u001b[39m)\n",
      "File \u001b[0;32m/opt/tljh/user/envs/sentier/lib/python3.12/site-packages/pandas/io/common.py:882\u001b[0m, in \u001b[0;36mget_handle\u001b[0;34m(path_or_buf, mode, encoding, compression, memory_map, is_text, errors, storage_options)\u001b[0m\n\u001b[1;32m    873\u001b[0m         handle \u001b[38;5;241m=\u001b[39m \u001b[38;5;28mopen\u001b[39m(\n\u001b[1;32m    874\u001b[0m             handle,\n\u001b[1;32m    875\u001b[0m             ioargs\u001b[38;5;241m.\u001b[39mmode,\n\u001b[0;32m   (...)\u001b[0m\n\u001b[1;32m    878\u001b[0m             newline\u001b[38;5;241m=\u001b[39m\u001b[38;5;124m\"\u001b[39m\u001b[38;5;124m\"\u001b[39m,\n\u001b[1;32m    879\u001b[0m         )\n\u001b[1;32m    880\u001b[0m     \u001b[38;5;28;01melse\u001b[39;00m:\n\u001b[1;32m    881\u001b[0m         \u001b[38;5;66;03m# Binary mode\u001b[39;00m\n\u001b[0;32m--> 882\u001b[0m         handle \u001b[38;5;241m=\u001b[39m \u001b[38;5;28;43mopen\u001b[39;49m\u001b[43m(\u001b[49m\u001b[43mhandle\u001b[49m\u001b[43m,\u001b[49m\u001b[43m \u001b[49m\u001b[43mioargs\u001b[49m\u001b[38;5;241;43m.\u001b[39;49m\u001b[43mmode\u001b[49m\u001b[43m)\u001b[49m\n\u001b[1;32m    883\u001b[0m     handles\u001b[38;5;241m.\u001b[39mappend(handle)\n\u001b[1;32m    885\u001b[0m \u001b[38;5;66;03m# Convert BytesIO or file objects passed with an encoding\u001b[39;00m\n",
      "\u001b[0;31mFileNotFoundError\u001b[0m: [Errno 2] No such file or directory: '/home/jupyter-jbrun52/Schools-2024-October-Switzerland/Projects/agripeeps/agripeeps/electrolyzers.xlsx'"
     ]
    }
   ],
   "source": [
    "data.create_example_local_datastorage()"
   ]
  },
  {
   "cell_type": "code",
   "execution_count": null,
   "id": "39f1c618-4546-47f8-af5d-0b1705dbae61",
   "metadata": {},
   "outputs": [],
   "source": []
  }
 ],
 "metadata": {
  "kernelspec": {
   "display_name": "Python [conda env:sentier]",
   "language": "python",
   "name": "conda-env-sentier-py"
  },
  "language_info": {
   "codemirror_mode": {
    "name": "ipython",
    "version": 3
   },
   "file_extension": ".py",
   "mimetype": "text/x-python",
   "name": "python",
   "nbconvert_exporter": "python",
   "pygments_lexer": "ipython3",
   "version": "3.12.7"
  }
 },
 "nbformat": 4,
 "nbformat_minor": 5
}
