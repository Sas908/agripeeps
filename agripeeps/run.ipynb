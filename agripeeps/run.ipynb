{
 "cells": [
  {
   "cell_type": "code",
   "execution_count": 4,
   "id": "aff0adc2-78db-4c9d-aa02-7ac88f247fef",
   "metadata": {},
   "outputs": [
    {
     "name": "stdout",
     "output_type": "stream",
     "text": [
      "The autoreload extension is already loaded. To reload it, use:\n",
      "  %reload_ext autoreload\n"
     ]
    }
   ],
   "source": [
    "%load_ext autoreload\n",
    "%autoreload 2\n",
    "\n",
    "from main import Crop, UserInput, RunConfig\n",
    "\n",
    "from sentier_data_tools import (\n",
    "    DatasetKind,\n",
    "    Demand,\n",
    "    Flow,\n",
    "    FlowIRI,\n",
    "    GeonamesIRI,\n",
    "    ModelTermIRI,\n",
    "    ProductIRI,\n",
    "    SentierModel,\n",
    ")\n",
    "from sentier_data_tools.iri import ProductIRI#, GeonamesIRI\n",
    "#from sentier_data_tools.model import SentierModel\n",
    "import DirectFertiliserEmission as dfe\n"
   ]
  },
  {
   "cell_type": "code",
   "execution_count": 5,
   "id": "9880c803-59cc-4050-a33c-ab76e9bc0710",
   "metadata": {},
   "outputs": [],
   "source": [
    "product_iri = ProductIRI(\"http://data.europa.eu/xsp/cn2024/100500000080\")\n",
    "amount = 7\n",
    "unit = ProductIRI(\"https://vocab.sentier.dev/units/unit/KiloGM\")"
   ]
  },
  {
   "cell_type": "code",
   "execution_count": 6,
   "id": "db38edc2-5c5b-4bbb-9cf6-eab882aea9a6",
   "metadata": {},
   "outputs": [
    {
     "data": {
      "text/plain": [
       "<http://data.europa.eu/xsp/cn2024/100500000080>: 1005 Maize (corn) (product)"
      ]
     },
     "execution_count": 6,
     "metadata": {},
     "output_type": "execute_result"
    }
   ],
   "source": [
    "product_iri"
   ]
  },
  {
   "cell_type": "code",
   "execution_count": 7,
   "id": "68abead4-a350-4e1c-a980-e918ee06c131",
   "metadata": {},
   "outputs": [],
   "source": [
    "user_input = UserInput(\n",
    "    product_iri=product_iri,\n",
    "    unit = unit,\n",
    "    amount=amount\n",
    "    #climate_type ='wet'\n",
    ")"
   ]
  },
  {
   "cell_type": "code",
   "execution_count": 8,
   "id": "ad8a2a88-c7bb-4c6e-8aa1-6afa668b939f",
   "metadata": {},
   "outputs": [
    {
     "data": {
      "text/plain": [
       "UserInput(product_iri=<http://data.europa.eu/xsp/cn2024/100500000080>: 1005 Maize (corn) (product), unit=<https://vocab.sentier.dev/units/unit/KiloGM>: Missing label (product), amount=7.0, climate_type=None, crop_yield=None, fertilizer_amount=None, spatial_context=GeonamesIRI('https://sws.geonames.org/2782113/'), begin_date=None, end_date=None)"
      ]
     },
     "execution_count": 8,
     "metadata": {},
     "output_type": "execute_result"
    }
   ],
   "source": [
    "user_input"
   ]
  },
  {
   "cell_type": "code",
   "execution_count": 9,
   "id": "8aea2f8d-6ae3-4d5d-b3f9-b6356eedde46",
   "metadata": {},
   "outputs": [],
   "source": [
    "run_config = RunConfig()"
   ]
  },
  {
   "cell_type": "code",
   "execution_count": 10,
   "id": "37116239-07bd-469e-a7ab-899c1225c995",
   "metadata": {},
   "outputs": [],
   "source": [
    "crop = Crop(user_input = user_input, run_config = run_config)"
   ]
  },
  {
   "cell_type": "markdown",
   "id": "ebd010dd-05c8-4713-9ed0-39d62f7a4a4c",
   "metadata": {},
   "source": [
    "crop.get_model_data()"
   ]
  },
  {
   "cell_type": "code",
   "execution_count": 25,
   "id": "06aa5379-571f-4715-91ae-ddaa0f0d7bee",
   "metadata": {},
   "outputs": [
    {
     "name": "stderr",
     "output_type": "stream",
     "text": [
      "INFO: http://data.europa.eu/xsp/cn2024/060011000090\n"
     ]
    },
    {
     "name": "stdout",
     "output_type": "stream",
     "text": [
      "\u001b[2m19:31:48\u001b[0m [\u001b[32m\u001b[1minfo     \u001b[0m] \u001b[1mRetrieved 17 triples from https://fuseki.d-d-s.ch/skosmos/query\u001b[0m\n",
      "\u001b[2m19:31:48\u001b[0m [\u001b[32m\u001b[1minfo     \u001b[0m] \u001b[1mRetrieved 7 triples from https://fuseki.d-d-s.ch/skosmos/query\u001b[0m\n"
     ]
    },
    {
     "name": "stderr",
     "output_type": "stream",
     "text": [
      "INFO: {'exactMatch': [<Dataset: 110>, <Dataset: 111>, <Dataset: 112>, <Dataset: 113>, <Dataset: 114>, <Dataset: 115>, <Dataset: 116>, <Dataset: 117>, <Dataset: 118>, <Dataset: 119>, <Dataset: 120>, <Dataset: 121>, <Dataset: 122>, <Dataset: 123>, <Dataset: 124>, <Dataset: 125>, <Dataset: 126>, <Dataset: 127>, <Dataset: 128>, <Dataset: 129>, <Dataset: 130>, <Dataset: 131>, <Dataset: 132>, <Dataset: 133>, <Dataset: 134>, <Dataset: 135>, <Dataset: 136>, <Dataset: 137>, <Dataset: 138>, <Dataset: 139>, <Dataset: 140>, <Dataset: 141>, <Dataset: 142>, <Dataset: 143>, <Dataset: 144>, <Dataset: 145>, <Dataset: 146>, <Dataset: 147>, <Dataset: 148>, <Dataset: 149>, <Dataset: 150>, <Dataset: 151>, <Dataset: 152>, <Dataset: 153>, <Dataset: 154>, <Dataset: 155>, <Dataset: 156>, <Dataset: 157>, <Dataset: 158>, <Dataset: 159>, <Dataset: 160>, <Dataset: 161>, <Dataset: 162>, <Dataset: 163>, <Dataset: 164>, <Dataset: 165>, <Dataset: 166>, <Dataset: 167>, <Dataset: 168>, <Dataset: 169>, <Dataset: 170>, <Dataset: 171>, <Dataset: 172>, <Dataset: 173>, <Dataset: 174>, <Dataset: 175>, <Dataset: 176>, <Dataset: 177>, <Dataset: 178>, <Dataset: 179>, <Dataset: 180>, <Dataset: 181>, <Dataset: 182>, <Dataset: 183>, <Dataset: 184>, <Dataset: 185>, <Dataset: 186>, <Dataset: 187>, <Dataset: 188>, <Dataset: 189>, <Dataset: 190>, <Dataset: 191>, <Dataset: 192>, <Dataset: 193>, <Dataset: 194>, <Dataset: 195>, <Dataset: 196>, <Dataset: 197>, <Dataset: 198>, <Dataset: 199>, <Dataset: 200>, <Dataset: 201>, <Dataset: 202>, <Dataset: 203>, <Dataset: 204>, <Dataset: 205>, <Dataset: 206>, <Dataset: 207>, <Dataset: 208>, <Dataset: 209>, <Dataset: 210>, <Dataset: 211>, <Dataset: 212>, <Dataset: 213>, <Dataset: 214>, <Dataset: 215>, <Dataset: 216>, <Dataset: 217>, <Dataset: 218>], 'broader': [], 'narrower': []}\n",
      "INFO: Set input data: fertiliser input on fields for http://data.europa.eu/xsp/cn2024/100500000080 in https://sws.geonames.org/2589581\n",
      "INFO: Set input data: fertiliser input on fields for http://data.europa.eu/xsp/cn2024/100500000080 in https://sws.geonames.org/3351879\n",
      "INFO: Set input data: fertiliser input on fields for http://data.europa.eu/xsp/cn2024/100500000080 in https://sws.geonames.org/2782113\n",
      "INFO: Set input data: fertiliser input on fields for http://data.europa.eu/xsp/cn2024/100500000080 in https://sws.geonames.org/1210997\n",
      "INFO: Set input data: fertiliser input on fields for http://data.europa.eu/xsp/cn2024/100500000080 in https://sws.geonames.org/2802361\n",
      "INFO: Set input data: fertiliser input on fields for http://data.europa.eu/xsp/cn2024/100500000080 in https://sws.geonames.org/2395170\n",
      "INFO: Set input data: fertiliser input on fields for http://data.europa.eu/xsp/cn2024/100500000080 in https://sws.geonames.org/3923057\n",
      "INFO: Set input data: fertiliser input on fields for http://data.europa.eu/xsp/cn2024/100500000080 in https://sws.geonames.org/3469034\n",
      "INFO: Set input data: fertiliser input on fields for http://data.europa.eu/xsp/cn2024/100500000080 in https://sws.geonames.org/6251999\n",
      "INFO: Set input data: fertiliser input on fields for http://data.europa.eu/xsp/cn2024/100500000080 in https://sws.geonames.org/3895114\n",
      "INFO: Set input data: fertiliser input on fields for http://data.europa.eu/xsp/cn2024/100500000080 in https://sws.geonames.org/1814991\n",
      "INFO: Set input data: fertiliser input on fields for http://data.europa.eu/xsp/cn2024/100500000080 in https://sws.geonames.org/3686110\n",
      "INFO: Set input data: fertiliser input on fields for http://data.europa.eu/xsp/cn2024/100500000080 in https://sws.geonames.org/3624060\n",
      "INFO: Set input data: fertiliser input on fields for http://data.europa.eu/xsp/cn2024/100500000080 in https://sws.geonames.org/2287781\n",
      "INFO: Set input data: fertiliser input on fields for http://data.europa.eu/xsp/cn2024/100500000080 in https://sws.geonames.org/146669\n",
      "INFO: Set input data: fertiliser input on fields for http://data.europa.eu/xsp/cn2024/100500000080 in https://sws.geonames.org/3508796\n",
      "INFO: Set input data: fertiliser input on fields for http://data.europa.eu/xsp/cn2024/100500000080 in https://sws.geonames.org/3658394\n",
      "INFO: Set input data: fertiliser input on fields for http://data.europa.eu/xsp/cn2024/100500000080 in https://sws.geonames.org/357994\n",
      "INFO: Set input data: fertiliser input on fields for http://data.europa.eu/xsp/cn2024/100500000080 in https://sws.geonames.org/337996\n",
      "INFO: Set input data: fertiliser input on fields for http://data.europa.eu/xsp/cn2024/100500000080 in https://sws.geonames.org/660013\n",
      "INFO: Set input data: fertiliser input on fields for http://data.europa.eu/xsp/cn2024/100500000080 in https://sws.geonames.org/3017382\n",
      "INFO: Set input data: fertiliser input on fields for http://data.europa.eu/xsp/cn2024/100500000080 in https://sws.geonames.org/2921044\n",
      "INFO: Set input data: fertiliser input on fields for http://data.europa.eu/xsp/cn2024/100500000080 in https://sws.geonames.org/390903\n",
      "INFO: Set input data: fertiliser input on fields for http://data.europa.eu/xsp/cn2024/100500000080 in https://sws.geonames.org/3595528\n",
      "INFO: Set input data: fertiliser input on fields for http://data.europa.eu/xsp/cn2024/100500000080 in https://sws.geonames.org/3608932\n",
      "INFO: Set input data: fertiliser input on fields for http://data.europa.eu/xsp/cn2024/100500000080 in https://sws.geonames.org/719819\n",
      "INFO: Set input data: fertiliser input on fields for http://data.europa.eu/xsp/cn2024/100500000080 in https://sws.geonames.org/1269750\n",
      "INFO: Set input data: fertiliser input on fields for http://data.europa.eu/xsp/cn2024/100500000080 in https://sws.geonames.org/130758\n",
      "INFO: Set input data: fertiliser input on fields for http://data.europa.eu/xsp/cn2024/100500000080 in https://sws.geonames.org/294640\n",
      "INFO: Set input data: fertiliser input on fields for http://data.europa.eu/xsp/cn2024/100500000080 in https://sws.geonames.org/3175395\n",
      "INFO: Set input data: fertiliser input on fields for http://data.europa.eu/xsp/cn2024/100500000080 in https://sws.geonames.org/1861060\n",
      "INFO: Set input data: fertiliser input on fields for http://data.europa.eu/xsp/cn2024/100500000080 in https://sws.geonames.org/248816\n",
      "INFO: Set input data: fertiliser input on fields for http://data.europa.eu/xsp/cn2024/100500000080 in https://sws.geonames.org/458258\n",
      "INFO: Set input data: fertiliser input on fields for http://data.europa.eu/xsp/cn2024/100500000080 in https://sws.geonames.org/932692\n",
      "INFO: Set input data: fertiliser input on fields for http://data.europa.eu/xsp/cn2024/100500000080 in https://sws.geonames.org/1062947\n",
      "INFO: Set input data: fertiliser input on fields for http://data.europa.eu/xsp/cn2024/100500000080 in https://sws.geonames.org/1733045\n",
      "INFO: Set input data: fertiliser input on fields for http://data.europa.eu/xsp/cn2024/100500000080 in https://sws.geonames.org/934292\n",
      "INFO: Set input data: fertiliser input on fields for http://data.europa.eu/xsp/cn2024/100500000080 in https://sws.geonames.org/3996063\n",
      "INFO: Set input data: fertiliser input on fields for http://data.europa.eu/xsp/cn2024/100500000080 in https://sws.geonames.org/2542007\n",
      "INFO: Set input data: fertiliser input on fields for http://data.europa.eu/xsp/cn2024/100500000080 in https://sws.geonames.org/1327865\n",
      "INFO: Set input data: fertiliser input on fields for http://data.europa.eu/xsp/cn2024/100500000080 in https://sws.geonames.org/1282988\n",
      "INFO: Set input data: fertiliser input on fields for http://data.europa.eu/xsp/cn2024/100500000080 in https://sws.geonames.org/2750405\n",
      "INFO: Set input data: fertiliser input on fields for http://data.europa.eu/xsp/cn2024/100500000080 in https://sws.geonames.org/3617476\n",
      "INFO: Set input data: fertiliser input on fields for http://data.europa.eu/xsp/cn2024/100500000080 in https://sws.geonames.org/2328926\n",
      "INFO: Set input data: fertiliser input on fields for http://data.europa.eu/xsp/cn2024/100500000080 in https://sws.geonames.org/3144096\n",
      "INFO: Set input data: fertiliser input on fields for http://data.europa.eu/xsp/cn2024/100500000080 in https://sws.geonames.org/1168579\n",
      "INFO: Set input data: fertiliser input on fields for http://data.europa.eu/xsp/cn2024/100500000080 in https://sws.geonames.org/3703430\n",
      "INFO: Set input data: fertiliser input on fields for http://data.europa.eu/xsp/cn2024/100500000080 in https://sws.geonames.org/3437598\n",
      "INFO: Set input data: fertiliser input on fields for http://data.europa.eu/xsp/cn2024/100500000080 in https://sws.geonames.org/3932488\n",
      "INFO: Set input data: fertiliser input on fields for http://data.europa.eu/xsp/cn2024/100500000080 in https://sws.geonames.org/1694008\n",
      "INFO: Set input data: fertiliser input on fields for http://data.europa.eu/xsp/cn2024/100500000080 in https://sws.geonames.org/798544\n",
      "INFO: Set input data: fertiliser input on fields for http://data.europa.eu/xsp/cn2024/100500000080 in https://sws.geonames.org/2264397\n",
      "INFO: Set input data: fertiliser input on fields for http://data.europa.eu/xsp/cn2024/100500000080 in https://sws.geonames.org/1835841\n",
      "INFO: Set input data: fertiliser input on fields for http://data.europa.eu/xsp/cn2024/100500000080 in https://sws.geonames.org/2017370\n",
      "INFO: Set input data: fertiliser input on fields for http://data.europa.eu/xsp/cn2024/100500000080 in https://sws.geonames.org/102358\n",
      "INFO: Set input data: fertiliser input on fields for http://data.europa.eu/xsp/cn2024/100500000080 in https://sws.geonames.org/2245662\n",
      "INFO: Set input data: fertiliser input on fields for http://data.europa.eu/xsp/cn2024/100500000080 in https://sws.geonames.org/953987\n",
      "INFO: Set input data: fertiliser input on fields for http://data.europa.eu/xsp/cn2024/100500000080 in https://sws.geonames.org/2510769\n",
      "INFO: Set input data: fertiliser input on fields for http://data.europa.eu/xsp/cn2024/100500000080 in https://sws.geonames.org/1227603\n",
      "INFO: Set input data: fertiliser input on fields for http://data.europa.eu/xsp/cn2024/100500000080 in https://sws.geonames.org/366755\n",
      "INFO: Set input data: fertiliser input on fields for http://data.europa.eu/xsp/cn2024/100500000080 in https://sws.geonames.org/2658434\n",
      "INFO: Set input data: fertiliser input on fields for http://data.europa.eu/xsp/cn2024/100500000080 in https://sws.geonames.org/1605651\n",
      "INFO: Set input data: fertiliser input on fields for http://data.europa.eu/xsp/cn2024/100500000080 in https://sws.geonames.org/2363686\n",
      "INFO: Set input data: fertiliser input on fields for http://data.europa.eu/xsp/cn2024/100500000080 in https://sws.geonames.org/298795\n",
      "INFO: Set input data: fertiliser input on fields for http://data.europa.eu/xsp/cn2024/100500000080 in https://sws.geonames.org/290557\n",
      "INFO: Set input data: fertiliser input on fields for http://data.europa.eu/xsp/cn2024/100500000080 in https://sws.geonames.org/149590\n",
      "INFO: Set input data: fertiliser input on fields for http://data.europa.eu/xsp/cn2024/100500000080 in https://sws.geonames.org/3439705\n",
      "INFO: Set input data: fertiliser input on fields for http://data.europa.eu/xsp/cn2024/100500000080 in https://sws.geonames.org/3625428\n",
      "INFO: Set input data: fertiliser input on fields for http://data.europa.eu/xsp/cn2024/100500000080 in https://sws.geonames.org/1562822\n",
      "INFO: Set input data: fertiliser input on fields for http://data.europa.eu/xsp/cn2024/100500000080 in https://sws.geonames.org/878675\n",
      "INFO: Set input data: fertiliser input on fields for http://data.europa.eu/xsp/cn2024/100500000080 in https://sws.geonames.org/3865483\n",
      "INFO: Set input data: fertiliser input on fields for http://data.europa.eu/xsp/cn2024/100500000080 in https://sws.geonames.org/3202326\n",
      "INFO: Set input data: fertiliser input on fields for http://data.europa.eu/xsp/cn2024/100500000080 in https://sws.geonames.org/2623032\n",
      "INFO: Set input data: fertiliser input on fields for http://data.europa.eu/xsp/cn2024/100500000080 in https://sws.geonames.org/3585968\n",
      "INFO: Set input data: fertiliser input on fields for http://data.europa.eu/xsp/cn2024/100500000080 in https://sws.geonames.org/2205218\n",
      "INFO: Set input data: fertiliser input on fields for http://data.europa.eu/xsp/cn2024/100500000080 in https://sws.geonames.org/2963597\n",
      "INFO: Set input data: fertiliser input on fields for http://data.europa.eu/xsp/cn2024/100500000080 in https://sws.geonames.org/1655842\n",
      "INFO: Set input data: fertiliser input on fields for http://data.europa.eu/xsp/cn2024/100500000080 in https://sws.geonames.org/272103\n",
      "INFO: Set input data: fertiliser input on fields for http://data.europa.eu/xsp/cn2024/100500000080 in https://sws.geonames.org/617790\n",
      "INFO: Set input data: fertiliser input on fields for http://data.europa.eu/xsp/cn2024/100500000080 in https://sws.geonames.org/798549\n",
      "INFO: Set input data: fertiliser input on fields for http://data.europa.eu/xsp/cn2024/100500000080 in https://sws.geonames.org/2661886\n",
      "INFO: Set input data: fertiliser input on fields for http://data.europa.eu/xsp/cn2024/100500000080 in https://sws.geonames.org/1220409\n",
      "INFO: Set input data: fertiliser input on fields for http://data.europa.eu/xsp/cn2024/100500000080 in https://sws.geonames.org/2635167\n",
      "INFO: Set input data: fertiliser input on fields for http://data.europa.eu/xsp/cn2024/100500000080 in https://sws.geonames.org/6252001\n",
      "INFO: Set input data: fertiliser input on fields for http://data.europa.eu/xsp/cn2024/100500000080 in https://sws.geonames.org/1831722\n",
      "INFO: Set input data: fertiliser input on fields for http://data.europa.eu/xsp/cn2024/100500000080 in https://sws.geonames.org/3077311\n",
      "INFO: Set input data: fertiliser input on fields for http://data.europa.eu/xsp/cn2024/100500000080 in https://sws.geonames.org/1643084\n",
      "INFO: Set input data: fertiliser input on fields for http://data.europa.eu/xsp/cn2024/100500000080 in https://sws.geonames.org/927384\n",
      "INFO: Set input data: fertiliser input on fields for http://data.europa.eu/xsp/cn2024/100500000080 in https://sws.geonames.org/2378080\n",
      "INFO: Set input data: fertiliser input on fields for http://data.europa.eu/xsp/cn2024/100500000080 in https://sws.geonames.org/2186224\n",
      "INFO: Set input data: fertiliser input on fields for http://data.europa.eu/xsp/cn2024/100500000080 in https://sws.geonames.org/783754\n",
      "INFO: Set input data: fertiliser input on fields for http://data.europa.eu/xsp/cn2024/100500000080 in https://sws.geonames.org/732800\n",
      "INFO: Set input data: fertiliser input on fields for http://data.europa.eu/xsp/cn2024/100500000080 in https://sws.geonames.org/2420477\n",
      "INFO: Set input data: fertiliser input on fields for http://data.europa.eu/xsp/cn2024/100500000080 in https://sws.geonames.org/192950\n",
      "INFO: Set input data: fertiliser input on fields for http://data.europa.eu/xsp/cn2024/100500000080 in https://sws.geonames.org/597427\n",
      "INFO: Set input data: fertiliser input on fields for http://data.europa.eu/xsp/cn2024/100500000080 in https://sws.geonames.org/163843\n",
      "INFO: Set input data: fertiliser input on fields for http://data.europa.eu/xsp/cn2024/100500000080 in https://sws.geonames.org/895949\n",
      "INFO: Set input data: fertiliser input on fields for http://data.europa.eu/xsp/cn2024/100500000080 in https://sws.geonames.org/587116\n",
      "INFO: Set input data: fertiliser input on fields for http://data.europa.eu/xsp/cn2024/100500000080 in https://sws.geonames.org/1668284\n",
      "INFO: Set input data: fertiliser input on fields for http://data.europa.eu/xsp/cn2024/100500000080 in https://sws.geonames.org/453733\n",
      "INFO: Set input data: fertiliser input on fields for http://data.europa.eu/xsp/cn2024/100500000080 in https://sws.geonames.org/285570\n",
      "INFO: Set input data: fertiliser input on fields for http://data.europa.eu/xsp/cn2024/100500000080 in https://sws.geonames.org/2077456\n",
      "INFO: Set input data: fertiliser input on fields for http://data.europa.eu/xsp/cn2024/100500000080 in https://sws.geonames.org/630336\n",
      "INFO: Set input data: fertiliser input on fields for http://data.europa.eu/xsp/cn2024/100500000080 in https://sws.geonames.org/690791\n",
      "INFO: Set input data: fertiliser input on fields for http://data.europa.eu/xsp/cn2024/100500000080 in https://sws.geonames.org/1512440\n",
      "INFO: Set input data: fertiliser input on fields for http://data.europa.eu/xsp/cn2024/100500000080 in https://sws.geonames.org/2361809\n",
      "INFO: Set input data: fertiliser input on fields for http://data.europa.eu/xsp/cn2024/100500000080 in https://sws.geonames.org/2453866\n",
      "INFO: Set input data: fertiliser input on fields for http://data.europa.eu/xsp/cn2024/100500000080 in https://sws.geonames.org/3057568\n",
      "INFO: Set input data: fertiliser input on fields for http://data.europa.eu/xsp/cn2024/100500000080 in https://sws.geonames.org/3190538\n",
      "INFO: Getting master db\n"
     ]
    }
   ],
   "source": [
    "agridata = crop.get_master_db()"
   ]
  },
  {
   "cell_type": "code",
   "execution_count": 26,
   "id": "f15fd402-797e-4d57-b52d-a2c42e75ef6d",
   "metadata": {},
   "outputs": [
    {
     "name": "stdout",
     "output_type": "stream",
     "text": [
      "  https://vocab.sentier.dev/model-terms/generic/company  \\\n",
      "0                                                FAO      \n",
      "1                                                FAO      \n",
      "2                                                FAO      \n",
      "3                                                FAO      \n",
      "4                                                FAO      \n",
      "5                                                FAO      \n",
      "6                                                FAO      \n",
      "7                                                FAO      \n",
      "8                                                FAO      \n",
      "9                                                FAO      \n",
      "\n",
      "  http://purl.org/dc/terms/date  mineral_fertiliser  \n",
      "0                          1989                 NaN  \n",
      "1                          1993            0.002210  \n",
      "2                          1993            0.002210  \n",
      "3                          1996            0.002660  \n",
      "4                          1999            0.004200  \n",
      "5                          2006                 NaN  \n",
      "6                          2007                 NaN  \n",
      "7                          2010                 NaN  \n",
      "8                          2014                 NaN  \n",
      "9                          2018            0.006846  \n"
     ]
    }
   ],
   "source": [
    "from sentier_data_tools.local_storage.db import Dataset\n",
    "for ds in agridata[\"exactMatch\"]:\n",
    "    #print(type(ds.location)) #\n",
    "    if ds.location == GeonamesIRI(\"https://sws.geonames.org/3469034\"):\n",
    "        print(ds.dataframe)"
   ]
  },
  {
   "cell_type": "code",
   "execution_count": 27,
   "id": "570d5cec-5249-4ce2-86c3-d8db6bab84dc",
   "metadata": {},
   "outputs": [
    {
     "ename": "AttributeError",
     "evalue": "'Crop' object has no attribute 'crop_yield_data'",
     "output_type": "error",
     "traceback": [
      "\u001b[0;31m---------------------------------------------------------------------------\u001b[0m",
      "\u001b[0;31mAttributeError\u001b[0m                            Traceback (most recent call last)",
      "Cell \u001b[0;32mIn[27], line 1\u001b[0m\n\u001b[0;32m----> 1\u001b[0m \u001b[43mcrop\u001b[49m\u001b[38;5;241;43m.\u001b[39;49m\u001b[43mcrop_yield_data\u001b[49m\n",
      "\u001b[0;31mAttributeError\u001b[0m: 'Crop' object has no attribute 'crop_yield_data'"
     ]
    }
   ],
   "source": [
    "crop.crop_yield_data"
   ]
  },
  {
   "cell_type": "code",
   "execution_count": 31,
   "id": "4de011df-3ba7-42ce-8c07-d89c9be754db",
   "metadata": {},
   "outputs": [
    {
     "data": {
      "text/plain": [
       "[{'iri': 'http://purl.org/dc/terms/date',\n",
       "  'unit': 'https://www.w3.org/2001/XMLSchema#string'},\n",
       " {'iri': 'http://purl.org/dc/terms/Location',\n",
       "  'unit': 'https://www.w3.org/2001/XMLSchema#string'},\n",
       " {'iri': 'http://data.europa.eu/xsp/cn2024/060011000090',\n",
       "  'unit': 'https://www.w3.org/2001/XMLSchema#string'},\n",
       " {'iri': 'http://data.europa.eu/xsp/cn2024/310200000080',\n",
       "  'unit': 'https://vocab.sentier.dev/units/unit/KiloGM-PER-M2'}]"
      ]
     },
     "metadata": {},
     "output_type": "display_data"
    }
   ],
   "source": [
    "from function import format_df\n",
    "\n",
    "for i in agridata[\"exactMatch\"]:\n",
    "    display(i.columns)"
   ]
  },
  {
   "cell_type": "code",
   "execution_count": 9,
   "id": "44aef00b-2c83-4928-ae48-dd7d7e8fccd0",
   "metadata": {},
   "outputs": [
    {
     "name": "stderr",
     "output_type": "stream",
     "text": [
      "INFO: Getting master db\n",
      "INFO: Getting crop yield and fertilizer amount\n"
     ]
    },
    {
     "name": "stdout",
     "output_type": "stream",
     "text": [
      "\u001b[2m13:41:33\u001b[0m [\u001b[32m\u001b[1minfo     \u001b[0m] \u001b[1mRetrieved 17 triples from https://fuseki.d-d-s.ch/skosmos/query\u001b[0m\n"
     ]
    },
    {
     "name": "stderr",
     "output_type": "stream",
     "text": [
      "INFO: Found broader match for <http://data.europa.eu/xsp/cn2024/060011000090>: SECTION II - VEGETABLE PRODUCTS (product)\n",
      "INFO:                                         crop_iri  \\\n",
      "3  http://data.europa.eu/xsp/cn2024/060011000090   \n",
      "4  http://data.europa.eu/xsp/cn2024/060011000090   \n",
      "5  http://data.europa.eu/xsp/cn2024/060011000090   \n",
      "\n",
      "                                        fert_iri climate_type fert_type  \\\n",
      "3  http://data.europa.eu/xsp/cn2024/310200000080      default   default   \n",
      "4  http://data.europa.eu/xsp/cn2024/310200000080      default   default   \n",
      "5  http://data.europa.eu/xsp/cn2024/310200000080      default   default   \n",
      "\n",
      "  value_type  emission_factor  emission [kg_N20/ha]  \n",
      "3      value            0.010                  1.10  \n",
      "4        min            0.001                  0.11  \n",
      "5        max            0.018                  1.98  \n",
      "INFO: Getting emission from fertilizer\n"
     ]
    }
   ],
   "source": [
    "resulting_demands = crop.run()"
   ]
  },
  {
   "cell_type": "code",
   "execution_count": null,
   "id": "b3f25220-515f-4474-89d5-f3d2427fba02",
   "metadata": {},
   "outputs": [],
   "source": [
    "resulting_demands"
   ]
  },
  {
   "cell_type": "markdown",
   "id": "b825b735-a3e7-49d5-98a2-2ca803e62ac7",
   "metadata": {},
   "source": [
    "# Main tst SentierModel"
   ]
  },
  {
   "cell_type": "code",
   "execution_count": null,
   "id": "9981d8dc-665d-4dfc-bcfd-4587b8a39073",
   "metadata": {},
   "outputs": [],
   "source": [
    "import sentier_data_tools"
   ]
  },
  {
   "cell_type": "code",
   "execution_count": null,
   "id": "2c0388a3-6c3e-4ea8-8271-55ec64325f56",
   "metadata": {},
   "outputs": [],
   "source": [
    "sentier_data_tools.__version__"
   ]
  },
  {
   "cell_type": "code",
   "execution_count": null,
   "id": "39d124c8-38bd-4f98-9745-6238b258def9",
   "metadata": {},
   "outputs": [],
   "source": [
    "%run main_tst.py"
   ]
  },
  {
   "cell_type": "markdown",
   "id": "afaadba9-4511-497d-9503-5184ef7e0e04",
   "metadata": {},
   "source": [
    "# n2OToAirInorganicFertiliserDirect_dev.py"
   ]
  },
  {
   "cell_type": "code",
   "execution_count": 1,
   "id": "49e01b60-3a47-4385-820a-11a65693c1f2",
   "metadata": {},
   "outputs": [],
   "source": [
    "import n2OToAirInorganicFertiliserDirect_dev as n2o"
   ]
  },
  {
   "cell_type": "code",
   "execution_count": 2,
   "id": "c804cbd4-ea7c-4628-96a6-0150a4f60ddb",
   "metadata": {},
   "outputs": [],
   "source": [
    "import pandas as pd"
   ]
  },
  {
   "cell_type": "code",
   "execution_count": 9,
   "id": "58cecc4f-f290-4e43-919c-888f67796884",
   "metadata": {},
   "outputs": [],
   "source": [
    "product_iri = ProductIRI(\"http://data.europa.eu/xsp/cn2024/100500000080\")"
   ]
  },
  {
   "cell_type": "code",
   "execution_count": 10,
   "id": "6a336123-a603-4bf0-8473-e4f26d25aeba",
   "metadata": {},
   "outputs": [
    {
     "ename": "Exception",
     "evalue": "File `'(product_iri,'` not found.",
     "output_type": "error",
     "traceback": [
      "\u001b[0;31m---------------------------------------------------------------------------\u001b[0m",
      "\u001b[0;31mOSError\u001b[0m                                   Traceback (most recent call last)",
      "File \u001b[0;32m/opt/tljh/user/envs/sentier/lib/python3.12/site-packages/IPython/core/magics/execution.py:716\u001b[0m, in \u001b[0;36mExecutionMagics.run\u001b[0;34m(self, parameter_s, runner, file_finder)\u001b[0m\n\u001b[1;32m    715\u001b[0m     fpath \u001b[38;5;241m=\u001b[39m arg_lst[\u001b[38;5;241m0\u001b[39m]\n\u001b[0;32m--> 716\u001b[0m     filename \u001b[38;5;241m=\u001b[39m \u001b[43mfile_finder\u001b[49m\u001b[43m(\u001b[49m\u001b[43mfpath\u001b[49m\u001b[43m)\u001b[49m\n\u001b[1;32m    717\u001b[0m \u001b[38;5;28;01mexcept\u001b[39;00m \u001b[38;5;167;01mIndexError\u001b[39;00m \u001b[38;5;28;01mas\u001b[39;00m e:\n",
      "File \u001b[0;32m/opt/tljh/user/envs/sentier/lib/python3.12/site-packages/IPython/utils/path.py:91\u001b[0m, in \u001b[0;36mget_py_filename\u001b[0;34m(name)\u001b[0m\n\u001b[1;32m     90\u001b[0m         \u001b[38;5;28;01mreturn\u001b[39;00m py_name\n\u001b[0;32m---> 91\u001b[0m \u001b[38;5;28;01mraise\u001b[39;00m \u001b[38;5;167;01mIOError\u001b[39;00m(\u001b[38;5;124m\"\u001b[39m\u001b[38;5;124mFile `\u001b[39m\u001b[38;5;132;01m%r\u001b[39;00m\u001b[38;5;124m` not found.\u001b[39m\u001b[38;5;124m\"\u001b[39m \u001b[38;5;241m%\u001b[39m name)\n",
      "\u001b[0;31mOSError\u001b[0m: File `'(product_iri,'` not found.",
      "\nThe above exception was the direct cause of the following exception:\n",
      "\u001b[0;31mException\u001b[0m                                 Traceback (most recent call last)",
      "Cell \u001b[0;32mIn[10], line 1\u001b[0m\n\u001b[0;32m----> 1\u001b[0m \u001b[43mget_ipython\u001b[49m\u001b[43m(\u001b[49m\u001b[43m)\u001b[49m\u001b[38;5;241;43m.\u001b[39;49m\u001b[43mrun_line_magic\u001b[49m\u001b[43m(\u001b[49m\u001b[38;5;124;43m'\u001b[39;49m\u001b[38;5;124;43mrun\u001b[39;49m\u001b[38;5;124;43m'\u001b[39;49m\u001b[43m,\u001b[49m\u001b[43m \u001b[49m\u001b[38;5;124;43m'\u001b[39;49m\u001b[38;5;124;43m(product_iri, 7)\u001b[39;49m\u001b[38;5;124;43m'\u001b[39;49m\u001b[43m)\u001b[49m\n",
      "File \u001b[0;32m/opt/tljh/user/envs/sentier/lib/python3.12/site-packages/IPython/core/interactiveshell.py:2480\u001b[0m, in \u001b[0;36mInteractiveShell.run_line_magic\u001b[0;34m(self, magic_name, line, _stack_depth)\u001b[0m\n\u001b[1;32m   2478\u001b[0m     kwargs[\u001b[38;5;124m'\u001b[39m\u001b[38;5;124mlocal_ns\u001b[39m\u001b[38;5;124m'\u001b[39m] \u001b[38;5;241m=\u001b[39m \u001b[38;5;28mself\u001b[39m\u001b[38;5;241m.\u001b[39mget_local_scope(stack_depth)\n\u001b[1;32m   2479\u001b[0m \u001b[38;5;28;01mwith\u001b[39;00m \u001b[38;5;28mself\u001b[39m\u001b[38;5;241m.\u001b[39mbuiltin_trap:\n\u001b[0;32m-> 2480\u001b[0m     result \u001b[38;5;241m=\u001b[39m \u001b[43mfn\u001b[49m\u001b[43m(\u001b[49m\u001b[38;5;241;43m*\u001b[39;49m\u001b[43margs\u001b[49m\u001b[43m,\u001b[49m\u001b[43m \u001b[49m\u001b[38;5;241;43m*\u001b[39;49m\u001b[38;5;241;43m*\u001b[39;49m\u001b[43mkwargs\u001b[49m\u001b[43m)\u001b[49m\n\u001b[1;32m   2482\u001b[0m \u001b[38;5;66;03m# The code below prevents the output from being displayed\u001b[39;00m\n\u001b[1;32m   2483\u001b[0m \u001b[38;5;66;03m# when using magics with decorator @output_can_be_silenced\u001b[39;00m\n\u001b[1;32m   2484\u001b[0m \u001b[38;5;66;03m# when the last Python token in the expression is a ';'.\u001b[39;00m\n\u001b[1;32m   2485\u001b[0m \u001b[38;5;28;01mif\u001b[39;00m \u001b[38;5;28mgetattr\u001b[39m(fn, magic\u001b[38;5;241m.\u001b[39mMAGIC_OUTPUT_CAN_BE_SILENCED, \u001b[38;5;28;01mFalse\u001b[39;00m):\n",
      "File \u001b[0;32m/opt/tljh/user/envs/sentier/lib/python3.12/site-packages/IPython/core/magics/execution.py:727\u001b[0m, in \u001b[0;36mExecutionMagics.run\u001b[0;34m(self, parameter_s, runner, file_finder)\u001b[0m\n\u001b[1;32m    725\u001b[0m     \u001b[38;5;28;01mif\u001b[39;00m os\u001b[38;5;241m.\u001b[39mname \u001b[38;5;241m==\u001b[39m \u001b[38;5;124m'\u001b[39m\u001b[38;5;124mnt\u001b[39m\u001b[38;5;124m'\u001b[39m \u001b[38;5;129;01mand\u001b[39;00m re\u001b[38;5;241m.\u001b[39mmatch(\u001b[38;5;124mr\u001b[39m\u001b[38;5;124m\"\u001b[39m\u001b[38;5;124m^\u001b[39m\u001b[38;5;124m'\u001b[39m\u001b[38;5;124m.*\u001b[39m\u001b[38;5;124m'\u001b[39m\u001b[38;5;124m$\u001b[39m\u001b[38;5;124m\"\u001b[39m,fpath):\n\u001b[1;32m    726\u001b[0m         warn(\u001b[38;5;124m'\u001b[39m\u001b[38;5;124mFor Windows, use double quotes to wrap a filename: \u001b[39m\u001b[38;5;132;01m%r\u001b[39;00m\u001b[38;5;124mun \u001b[39m\u001b[38;5;124m\"\u001b[39m\u001b[38;5;124mmypath\u001b[39m\u001b[38;5;130;01m\\\\\u001b[39;00m\u001b[38;5;124mmyfile.py\u001b[39m\u001b[38;5;124m\"\u001b[39m\u001b[38;5;124m'\u001b[39m)\n\u001b[0;32m--> 727\u001b[0m     \u001b[38;5;28;01mraise\u001b[39;00m \u001b[38;5;167;01mException\u001b[39;00m(msg) \u001b[38;5;28;01mfrom\u001b[39;00m \u001b[38;5;21;01me\u001b[39;00m\n\u001b[1;32m    728\u001b[0m \u001b[38;5;28;01mexcept\u001b[39;00m \u001b[38;5;167;01mTypeError\u001b[39;00m:\n\u001b[1;32m    729\u001b[0m     \u001b[38;5;28;01mif\u001b[39;00m fpath \u001b[38;5;129;01min\u001b[39;00m sys\u001b[38;5;241m.\u001b[39mmeta_path:\n",
      "\u001b[0;31mException\u001b[0m: File `'(product_iri,'` not found."
     ]
    }
   ],
   "source": [
    "run(product_iri, 7)"
   ]
  },
  {
   "cell_type": "markdown",
   "id": "14ed6f44-fae8-4210-8ef3-b92c41fabb4f",
   "metadata": {},
   "source": [
    "# function.py"
   ]
  },
  {
   "cell_type": "code",
   "execution_count": 5,
   "id": "f1e41bf8-876d-4975-9152-5ba57d2c8e2d",
   "metadata": {},
   "outputs": [],
   "source": [
    "from sentier_data_tools.iri import ProductIRI"
   ]
  },
  {
   "cell_type": "code",
   "execution_count": 6,
   "id": "8b89a6ba-9f5c-4d39-8082-70053c056d6c",
   "metadata": {},
   "outputs": [],
   "source": [
    "import function"
   ]
  },
  {
   "cell_type": "code",
   "execution_count": 7,
   "id": "2b921681-29c7-4bbf-961d-33acb1fbaf92",
   "metadata": {},
   "outputs": [],
   "source": [
    "product_iri = ProductIRI(\"http://data.europa.eu/xsp/cn2024/100500000080\")"
   ]
  },
  {
   "cell_type": "code",
   "execution_count": 4,
   "id": "da04694d-a3e1-438a-ae47-c8703b5ffe20",
   "metadata": {},
   "outputs": [
    {
     "data": {
      "text/plain": [
       "'<http://data.europa.eu/xsp/cn2024/100500000080>: 1005 Maize (corn) (product)'"
      ]
     },
     "execution_count": 4,
     "metadata": {},
     "output_type": "execute_result"
    }
   ],
   "source": [
    "product_iri.display()"
   ]
  },
  {
   "cell_type": "code",
   "execution_count": 5,
   "id": "11448499-9260-47e4-834c-31262e257ec6",
   "metadata": {},
   "outputs": [
    {
     "name": "stdout",
     "output_type": "stream",
     "text": [
      "\u001b[2m09:52:08\u001b[0m [\u001b[32m\u001b[1minfo     \u001b[0m] \u001b[1mRetrieved 17 triples from https://fuseki.d-d-s.ch/skosmos/query\u001b[0m\n",
      "\u001b[2m09:52:08\u001b[0m [\u001b[32m\u001b[1minfo     \u001b[0m] \u001b[1mRetrieved 17 triples from https://fuseki.d-d-s.ch/skosmos/query\u001b[0m\n",
      "\u001b[2m09:52:08\u001b[0m [\u001b[32m\u001b[1minfo     \u001b[0m] \u001b[1mRetrieved 7 triples from https://fuseki.d-d-s.ch/skosmos/query\u001b[0m\n"
     ]
    }
   ],
   "source": [
    "unique_product = [ product_iri.broader()[0], product_iri.broader()[1], product_iri.narrower()[0]]"
   ]
  },
  {
   "cell_type": "code",
   "execution_count": 6,
   "id": "54aab86e-a862-4c67-9ccb-c9f310505010",
   "metadata": {},
   "outputs": [
    {
     "data": {
      "text/plain": [
       "[<http://data.europa.eu/xsp/cn2024/100021000090>: CHAPTER 10 - CEREALS (product),\n",
       " <http://data.europa.eu/xsp/cn2024/060011000090>: SECTION II - VEGETABLE PRODUCTS (product),\n",
       " <http://data.europa.eu/xsp/cn2024/100590000080>: Other (product)]"
      ]
     },
     "execution_count": 6,
     "metadata": {},
     "output_type": "execute_result"
    }
   ],
   "source": [
    "unique_product"
   ]
  },
  {
   "cell_type": "code",
   "execution_count": 7,
   "id": "1e70b4b6-e3c4-4225-ab81-cfa4e4875939",
   "metadata": {},
   "outputs": [
    {
     "name": "stdout",
     "output_type": "stream",
     "text": [
      "\u001b[2m09:52:09\u001b[0m [\u001b[32m\u001b[1minfo     \u001b[0m] \u001b[1mRetrieved 17 triples from https://fuseki.d-d-s.ch/skosmos/query\u001b[0m\n"
     ]
    },
    {
     "name": "stderr",
     "output_type": "stream",
     "text": [
      "INFO: Found broader match for <http://data.europa.eu/xsp/cn2024/100021000090>: CHAPTER 10 - CEREALS (product)\n"
     ]
    }
   ],
   "source": [
    "match_IRI = function.find_match_IRI(product_iri, unique_product)"
   ]
  },
  {
   "cell_type": "code",
   "execution_count": 16,
   "id": "f215b510-a448-460a-bd7b-4604eb8d405a",
   "metadata": {},
   "outputs": [],
   "source": [
    "df = pd.read_csv(\"../docs/EF.csv\", sep=';')\n",
    "productIRI_columns_list = ['crop_iri', 'fert_iri']\n",
    "\n",
    "df[productIRI_columns_list] = df[productIRI_columns_list].map(lambda x : ProductIRI(x))"
   ]
  },
  {
   "cell_type": "code",
   "execution_count": 18,
   "id": "acba418a-e124-4bbc-99ce-d4ab4b6f69bb",
   "metadata": {},
   "outputs": [
    {
     "data": {
      "text/plain": [
       "<http://data.europa.eu/xsp/cn2024/060011000090>: SECTION II - VEGETABLE PRODUCTS (product)"
      ]
     },
     "execution_count": 18,
     "metadata": {},
     "output_type": "execute_result"
    }
   ],
   "source": [
    "df['crop_iri'][0]"
   ]
  },
  {
   "cell_type": "code",
   "execution_count": 19,
   "id": "adf88422-ef68-4e3d-8137-ad7bac578041",
   "metadata": {},
   "outputs": [
    {
     "data": {
      "text/plain": [
       "'http://data.europa.eu/xsp/cn2024/060011000090'"
      ]
     },
     "execution_count": 19,
     "metadata": {},
     "output_type": "execute_result"
    }
   ],
   "source": [
    "df_emission_factors['crop_iri'][0]"
   ]
  },
  {
   "cell_type": "code",
   "execution_count": null,
   "id": "1911bdff-e412-405e-b90a-c14dd392b9b9",
   "metadata": {},
   "outputs": [],
   "source": []
  }
 ],
 "metadata": {
  "kernelspec": {
   "display_name": "Python [conda env:sentier]",
   "language": "python",
   "name": "conda-env-sentier-py"
  },
  "language_info": {
   "codemirror_mode": {
    "name": "ipython",
    "version": 3
   },
   "file_extension": ".py",
   "mimetype": "text/x-python",
   "name": "python",
   "nbconvert_exporter": "python",
   "pygments_lexer": "ipython3",
   "version": "3.12.7"
  }
 },
 "nbformat": 4,
 "nbformat_minor": 5
}
