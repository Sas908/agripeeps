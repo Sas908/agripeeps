{
 "cells": [
  {
   "cell_type": "code",
   "execution_count": 3,
   "id": "0288b338-6c3f-4505-961d-149c00327ad4",
   "metadata": {},
   "outputs": [],
   "source": [
    "%run main.py"
   ]
  },
  {
   "cell_type": "code",
   "execution_count": 4,
   "id": "fc92e93b-dfbb-4c3f-b9df-0bc906d0c3a7",
   "metadata": {},
   "outputs": [],
   "source": [
    "product_iri = ProductIRI(\"https://vocab.sentier.dev/products/\")"
   ]
  },
  {
   "cell_type": "code",
   "execution_count": 5,
   "id": "beed2575-cdaf-460b-9b17-069af6545b3f",
   "metadata": {},
   "outputs": [],
   "source": [
    "amount = 7"
   ]
  },
  {
   "cell_type": "code",
   "execution_count": 6,
   "id": "68abead4-a350-4e1c-a980-e918ee06c131",
   "metadata": {},
   "outputs": [],
   "source": [
    "user_input = UserInput(\n",
    "    product_iri=product_iri,\n",
    "    unit = 'kg',\n",
    "    amount=amount\n",
    ")"
   ]
  },
  {
   "cell_type": "code",
   "execution_count": null,
   "id": "ad8a2a88-c7bb-4c6e-8aa1-6afa668b939f",
   "metadata": {},
   "outputs": [],
   "source": [
    "user_input"
   ]
  },
  {
   "cell_type": "code",
   "execution_count": null,
   "id": "8aea2f8d-6ae3-4d5d-b3f9-b6356eedde46",
   "metadata": {},
   "outputs": [],
   "source": [
    "run_config = RunConfig()"
   ]
  },
  {
   "cell_type": "code",
   "execution_count": null,
   "id": "37116239-07bd-469e-a7ab-899c1225c995",
   "metadata": {},
   "outputs": [],
   "source": [
    "crop = Crop(user_input = user_input, run_config = run_config)"
   ]
  },
  {
   "cell_type": "code",
   "execution_count": null,
   "id": "44aef00b-2c83-4928-ae48-dd7d7e8fccd0",
   "metadata": {},
   "outputs": [],
   "source": [
    "resulting_demands = crop.run()"
   ]
  },
  {
   "cell_type": "code",
   "execution_count": null,
   "id": "b3f25220-515f-4474-89d5-f3d2427fba02",
   "metadata": {},
   "outputs": [],
   "source": [
    "resulting_demands"
   ]
  },
  {
   "cell_type": "markdown",
   "id": "b825b735-a3e7-49d5-98a2-2ca803e62ac7",
   "metadata": {},
   "source": [
    "# Main tst SentierModel"
   ]
  },
  {
   "cell_type": "code",
   "execution_count": null,
   "id": "9981d8dc-665d-4dfc-bcfd-4587b8a39073",
   "metadata": {},
   "outputs": [],
   "source": [
    "import sentier_data_tools"
   ]
  },
  {
   "cell_type": "code",
   "execution_count": null,
   "id": "2c0388a3-6c3e-4ea8-8271-55ec64325f56",
   "metadata": {},
   "outputs": [],
   "source": [
    "sentier_data_tools.__version__"
   ]
  },
  {
   "cell_type": "code",
   "execution_count": null,
   "id": "6a237746-9c27-45ed-a813-de664d186834",
   "metadata": {},
   "outputs": [],
   "source": [
    "!pip install sentier_data_tools==0.3.0"
   ]
  },
  {
   "cell_type": "code",
   "execution_count": null,
   "id": "39d124c8-38bd-4f98-9745-6238b258def9",
   "metadata": {},
   "outputs": [],
   "source": [
    "%run main_tst.py"
   ]
  },
  {
   "cell_type": "markdown",
   "id": "afaadba9-4511-497d-9503-5184ef7e0e04",
   "metadata": {},
   "source": [
    "# Data.py"
   ]
  },
  {
   "cell_type": "code",
   "execution_count": null,
   "id": "49e01b60-3a47-4385-820a-11a65693c1f2",
   "metadata": {},
   "outputs": [],
   "source": [
    "import data"
   ]
  },
  {
   "cell_type": "code",
   "execution_count": null,
   "id": "5b48ff53-8e39-4bf6-8caa-9fd861777e00",
   "metadata": {},
   "outputs": [],
   "source": [
    "data.create_example_local_datastorage()"
   ]
  },
  {
   "cell_type": "code",
   "execution_count": null,
   "id": "39f1c618-4546-47f8-af5d-0b1705dbae61",
   "metadata": {},
   "outputs": [],
   "source": []
  }
 ],
 "metadata": {
  "kernelspec": {
   "display_name": "Python [conda env:sentier]",
   "language": "python",
   "name": "conda-env-sentier-py"
  },
  "language_info": {
   "codemirror_mode": {
    "name": "ipython",
    "version": 3
   },
   "file_extension": ".py",
   "mimetype": "text/x-python",
   "name": "python",
   "nbconvert_exporter": "python",
   "pygments_lexer": "ipython3",
   "version": "3.12.7"
  }
 },
 "nbformat": 4,
 "nbformat_minor": 5
}
