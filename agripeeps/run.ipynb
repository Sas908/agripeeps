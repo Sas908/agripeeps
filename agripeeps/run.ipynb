{
 "cells": [
  {
   "cell_type": "code",
   "execution_count": 20,
   "id": "0288b338-6c3f-4505-961d-149c00327ad4",
   "metadata": {},
   "outputs": [],
   "source": [
    "%run main.py"
   ]
  },
  {
   "cell_type": "code",
   "execution_count": 2,
   "id": "fc92e93b-dfbb-4c3f-b9df-0bc906d0c3a7",
   "metadata": {},
   "outputs": [],
   "source": [
    "product_iri = ProductIRI(\"https://vocab.sentier.dev/products/\")"
   ]
  },
  {
   "cell_type": "code",
   "execution_count": 3,
   "id": "beed2575-cdaf-460b-9b17-069af6545b3f",
   "metadata": {},
   "outputs": [],
   "source": [
    "amount = 7"
   ]
  },
  {
   "cell_type": "code",
   "execution_count": 4,
   "id": "68abead4-a350-4e1c-a980-e918ee06c131",
   "metadata": {},
   "outputs": [],
   "source": [
    "user_input = UserInput(\n",
    "    product_iri=product_iri,\n",
    "    unit = 'kg',\n",
    "    amount=amount\n",
    ")"
   ]
  },
  {
   "cell_type": "code",
   "execution_count": 5,
   "id": "ad8a2a88-c7bb-4c6e-8aa1-6afa668b939f",
   "metadata": {},
   "outputs": [
    {
     "data": {
      "text/plain": [
       "UserInput(product_iri=ProductIRI('https://vocab.sentier.dev/products/'), unit='kg', amount=7.0, crop_yield=None, fertilizer_amount=None, begin_date=None, end_date=None)"
      ]
     },
     "execution_count": 5,
     "metadata": {},
     "output_type": "execute_result"
    }
   ],
   "source": [
    "user_input"
   ]
  },
  {
   "cell_type": "code",
   "execution_count": 6,
   "id": "8aea2f8d-6ae3-4d5d-b3f9-b6356eedde46",
   "metadata": {},
   "outputs": [],
   "source": [
    "run_config = RunConfig()"
   ]
  },
  {
   "cell_type": "code",
   "execution_count": 7,
   "id": "37116239-07bd-469e-a7ab-899c1225c995",
   "metadata": {},
   "outputs": [],
   "source": [
    "crop = Crop(user_input = user_input, run_config = run_config)"
   ]
  },
  {
   "cell_type": "code",
   "execution_count": 8,
   "id": "44aef00b-2c83-4928-ae48-dd7d7e8fccd0",
   "metadata": {},
   "outputs": [
    {
     "name": "stderr",
     "output_type": "stream",
     "text": [
      "INFO: Getting master db\n",
      "INFO: Getting crop yield and fertilizer amount\n",
      "INFO: Getting emission from fertilizer\n"
     ]
    },
    {
     "name": "stdout",
     "output_type": "stream",
     "text": [
      "wet [{'value': [1.76], 'min': [1.43], 'max': [2.09], 'sd': [0.165], 'methodModelDescription': 'Disaggregated version'}]\n",
      "dry [{'value': [0.55], 'min': [0.0], 'max': [1.21], 'sd': [0.3025], 'methodModelDescription': 'Disaggregated version'}]\n"
     ]
    }
   ],
   "source": [
    "resulting_demands = crop.run()"
   ]
  },
  {
   "cell_type": "code",
   "execution_count": 9,
   "id": "b3f25220-515f-4474-89d5-f3d2427fba02",
   "metadata": {},
   "outputs": [],
   "source": [
    "resulting_demands"
   ]
  },
  {
   "cell_type": "markdown",
   "id": "b825b735-a3e7-49d5-98a2-2ca803e62ac7",
   "metadata": {},
   "source": [
    "# Main tst SentierModel"
   ]
  },
  {
   "cell_type": "code",
   "execution_count": 10,
   "id": "9981d8dc-665d-4dfc-bcfd-4587b8a39073",
   "metadata": {},
   "outputs": [],
   "source": [
    "import sentier_data_tools"
   ]
  },
  {
   "cell_type": "code",
   "execution_count": 11,
   "id": "2c0388a3-6c3e-4ea8-8271-55ec64325f56",
   "metadata": {},
   "outputs": [
    {
     "data": {
      "text/plain": [
       "'0.1.3'"
      ]
     },
     "execution_count": 11,
     "metadata": {},
     "output_type": "execute_result"
    }
   ],
   "source": [
    "sentier_data_tools.__version__"
   ]
  },
  {
   "cell_type": "code",
   "execution_count": 13,
   "id": "39d124c8-38bd-4f98-9745-6238b258def9",
   "metadata": {},
   "outputs": [
    {
     "ename": "ImportError",
     "evalue": "cannot import name 'SentierModel' from 'sentier_data_tools' (/opt/tljh/user/envs/sentier/lib/python3.12/site-packages/sentier_data_tools/__init__.py)",
     "output_type": "error",
     "traceback": [
      "\u001b[0;31m---------------------------------------------------------------------------\u001b[0m",
      "\u001b[0;31mImportError\u001b[0m                               Traceback (most recent call last)",
      "File \u001b[0;32m~/Schools-2024-October-Switzerland/Projects/agripeeps/agripeeps/main_tst.py:11\u001b[0m\n\u001b[1;32m      8\u001b[0m logging\u001b[38;5;241m.\u001b[39mbasicConfig(level\u001b[38;5;241m=\u001b[39mlogging\u001b[38;5;241m.\u001b[39mINFO, \u001b[38;5;28mformat\u001b[39m\u001b[38;5;241m=\u001b[39m\u001b[38;5;124m'\u001b[39m\u001b[38;5;132;01m%(levelname)s\u001b[39;00m\u001b[38;5;124m: \u001b[39m\u001b[38;5;132;01m%(message)s\u001b[39;00m\u001b[38;5;124m'\u001b[39m)\n\u001b[1;32m     10\u001b[0m \u001b[38;5;28;01mfrom\u001b[39;00m \u001b[38;5;21;01msentier_data_tools\u001b[39;00m\u001b[38;5;21;01m.\u001b[39;00m\u001b[38;5;21;01miri\u001b[39;00m \u001b[38;5;28;01mimport\u001b[39;00m ProductIRI \u001b[38;5;66;03m#, GeonamesIRI\u001b[39;00m\n\u001b[0;32m---> 11\u001b[0m \u001b[38;5;28;01mfrom\u001b[39;00m \u001b[38;5;21;01msentier_data_tools\u001b[39;00m \u001b[38;5;28;01mimport\u001b[39;00m SentierModel\n\u001b[1;32m     12\u001b[0m \u001b[38;5;28;01mimport\u001b[39;00m \u001b[38;5;21;01mn2OToAirInorganicFertiliserDirect\u001b[39;00m \u001b[38;5;28;01mas\u001b[39;00m \u001b[38;5;21;01mn2o\u001b[39;00m\n\u001b[1;32m     14\u001b[0m \u001b[38;5;66;03m## Attention : I would like demand to come from user input, I need mapping from natural language to IRI for product and geonames\u001b[39;00m\n",
      "\u001b[0;31mImportError\u001b[0m: cannot import name 'SentierModel' from 'sentier_data_tools' (/opt/tljh/user/envs/sentier/lib/python3.12/site-packages/sentier_data_tools/__init__.py)"
     ]
    }
   ],
   "source": [
    "%run main_tst.py"
   ]
  },
  {
   "cell_type": "markdown",
   "id": "afaadba9-4511-497d-9503-5184ef7e0e04",
   "metadata": {},
   "source": [
    "# Data.py"
   ]
  },
  {
   "cell_type": "code",
   "execution_count": 17,
   "id": "49e01b60-3a47-4385-820a-11a65693c1f2",
   "metadata": {},
   "outputs": [],
   "source": [
    "import n2OToAirInorganicFertiliserDirect_dev as n2o"
   ]
  },
  {
   "cell_type": "code",
   "execution_count": null,
   "id": "4a1caa1e-fd58-4cbd-9be4-8b7c6cbe150d",
   "metadata": {},
   "outputs": [],
   "source": []
  },
  {
   "cell_type": "code",
   "execution_count": 18,
   "id": "5b48ff53-8e39-4bf6-8caa-9fd861777e00",
   "metadata": {},
   "outputs": [
    {
     "name": "stderr",
     "output_type": "stream",
     "text": [
      "INFO:                                          crop_iri  \\\n",
      "9   http://data.europa.eu/xsp/cn2024/060011000090   \n",
      "10  http://data.europa.eu/xsp/cn2024/060011000090   \n",
      "11  http://data.europa.eu/xsp/cn2024/060011000090   \n",
      "12  http://data.europa.eu/xsp/cn2024/060011000090   \n",
      "13  http://data.europa.eu/xsp/cn2024/060011000090   \n",
      "14  http://data.europa.eu/xsp/cn2024/060011000090   \n",
      "15  http://data.europa.eu/xsp/cn2024/060011000090   \n",
      "16  http://data.europa.eu/xsp/cn2024/060011000090   \n",
      "17  http://data.europa.eu/xsp/cn2024/060011000090   \n",
      "\n",
      "                                         fert_iri climate_type  fert_type  \\\n",
      "9   http://data.europa.eu/xsp/cn2024/310200000080          wet  inorganic   \n",
      "10  http://data.europa.eu/xsp/cn2024/310200000080          wet  inorganic   \n",
      "11  http://data.europa.eu/xsp/cn2024/310200000080          wet  inorganic   \n",
      "12  http://data.europa.eu/xsp/cn2024/310200000080          wet    organic   \n",
      "13  http://data.europa.eu/xsp/cn2024/310200000080          wet    organic   \n",
      "14  http://data.europa.eu/xsp/cn2024/310200000080          wet    organic   \n",
      "15  http://data.europa.eu/xsp/cn2024/310200000080          wet   residual   \n",
      "16  http://data.europa.eu/xsp/cn2024/310200000080          wet   residual   \n",
      "17  http://data.europa.eu/xsp/cn2024/310200000080          wet   residual   \n",
      "\n",
      "   value_type  emission_factor  emission [kg_N20/ha]  \n",
      "9       value            0.016                 0.176  \n",
      "10        min            0.013                 0.143  \n",
      "11        max            0.019                 0.209  \n",
      "12      value            0.006                 0.066  \n",
      "13        min            0.001                 0.011  \n",
      "14        max            0.011                 0.121  \n",
      "15      value            0.006                 0.066  \n",
      "16        min            0.001                 0.011  \n",
      "17        max            0.011                 0.121  \n"
     ]
    }
   ],
   "source": [
    "df_emission = n2o.run(7,'wet')"
   ]
  },
  {
   "cell_type": "code",
   "execution_count": 16,
   "id": "39f1c618-4546-47f8-af5d-0b1705dbae61",
   "metadata": {},
   "outputs": [
    {
     "ename": "SyntaxError",
     "evalue": "unterminated f-string literal (detected at line 3) (2120446825.py, line 3)",
     "output_type": "error",
     "traceback": [
      "\u001b[0;36m  Cell \u001b[0;32mIn[16], line 3\u001b[0;36m\u001b[0m\n\u001b[0;31m    logging.info(f\"For {fert_iri}:)\u001b[0m\n\u001b[0m                 ^\u001b[0m\n\u001b[0;31mSyntaxError\u001b[0m\u001b[0;31m:\u001b[0m unterminated f-string literal (detected at line 3)\n"
     ]
    }
   ],
   "source": [
    "for fert_type in df_emission :\n",
    "    logging.info(df_emission)\n",
    "    logging.info(f\"For {fert_iri}:)\n"
   ]
  },
  {
   "cell_type": "code",
   "execution_count": 19,
   "id": "6a336123-a603-4bf0-8473-e4f26d25aeba",
   "metadata": {},
   "outputs": [
    {
     "data": {
      "text/html": [
       "<div>\n",
       "<style scoped>\n",
       "    .dataframe tbody tr th:only-of-type {\n",
       "        vertical-align: middle;\n",
       "    }\n",
       "\n",
       "    .dataframe tbody tr th {\n",
       "        vertical-align: top;\n",
       "    }\n",
       "\n",
       "    .dataframe thead th {\n",
       "        text-align: right;\n",
       "    }\n",
       "</style>\n",
       "<table border=\"1\" class=\"dataframe\">\n",
       "  <thead>\n",
       "    <tr style=\"text-align: right;\">\n",
       "      <th></th>\n",
       "      <th>crop_iri</th>\n",
       "      <th>fert_iri</th>\n",
       "      <th>climate_type</th>\n",
       "      <th>fert_type</th>\n",
       "      <th>value_type</th>\n",
       "      <th>emission_factor</th>\n",
       "      <th>emission [kg_N20/ha]</th>\n",
       "    </tr>\n",
       "  </thead>\n",
       "  <tbody>\n",
       "    <tr>\n",
       "      <th>9</th>\n",
       "      <td>http://data.europa.eu/xsp/cn2024/060011000090</td>\n",
       "      <td>http://data.europa.eu/xsp/cn2024/310200000080</td>\n",
       "      <td>wet</td>\n",
       "      <td>inorganic</td>\n",
       "      <td>value</td>\n",
       "      <td>0.016</td>\n",
       "      <td>0.176</td>\n",
       "    </tr>\n",
       "    <tr>\n",
       "      <th>10</th>\n",
       "      <td>http://data.europa.eu/xsp/cn2024/060011000090</td>\n",
       "      <td>http://data.europa.eu/xsp/cn2024/310200000080</td>\n",
       "      <td>wet</td>\n",
       "      <td>inorganic</td>\n",
       "      <td>min</td>\n",
       "      <td>0.013</td>\n",
       "      <td>0.143</td>\n",
       "    </tr>\n",
       "    <tr>\n",
       "      <th>11</th>\n",
       "      <td>http://data.europa.eu/xsp/cn2024/060011000090</td>\n",
       "      <td>http://data.europa.eu/xsp/cn2024/310200000080</td>\n",
       "      <td>wet</td>\n",
       "      <td>inorganic</td>\n",
       "      <td>max</td>\n",
       "      <td>0.019</td>\n",
       "      <td>0.209</td>\n",
       "    </tr>\n",
       "    <tr>\n",
       "      <th>12</th>\n",
       "      <td>http://data.europa.eu/xsp/cn2024/060011000090</td>\n",
       "      <td>http://data.europa.eu/xsp/cn2024/310200000080</td>\n",
       "      <td>wet</td>\n",
       "      <td>organic</td>\n",
       "      <td>value</td>\n",
       "      <td>0.006</td>\n",
       "      <td>0.066</td>\n",
       "    </tr>\n",
       "    <tr>\n",
       "      <th>13</th>\n",
       "      <td>http://data.europa.eu/xsp/cn2024/060011000090</td>\n",
       "      <td>http://data.europa.eu/xsp/cn2024/310200000080</td>\n",
       "      <td>wet</td>\n",
       "      <td>organic</td>\n",
       "      <td>min</td>\n",
       "      <td>0.001</td>\n",
       "      <td>0.011</td>\n",
       "    </tr>\n",
       "    <tr>\n",
       "      <th>14</th>\n",
       "      <td>http://data.europa.eu/xsp/cn2024/060011000090</td>\n",
       "      <td>http://data.europa.eu/xsp/cn2024/310200000080</td>\n",
       "      <td>wet</td>\n",
       "      <td>organic</td>\n",
       "      <td>max</td>\n",
       "      <td>0.011</td>\n",
       "      <td>0.121</td>\n",
       "    </tr>\n",
       "    <tr>\n",
       "      <th>15</th>\n",
       "      <td>http://data.europa.eu/xsp/cn2024/060011000090</td>\n",
       "      <td>http://data.europa.eu/xsp/cn2024/310200000080</td>\n",
       "      <td>wet</td>\n",
       "      <td>residual</td>\n",
       "      <td>value</td>\n",
       "      <td>0.006</td>\n",
       "      <td>0.066</td>\n",
       "    </tr>\n",
       "    <tr>\n",
       "      <th>16</th>\n",
       "      <td>http://data.europa.eu/xsp/cn2024/060011000090</td>\n",
       "      <td>http://data.europa.eu/xsp/cn2024/310200000080</td>\n",
       "      <td>wet</td>\n",
       "      <td>residual</td>\n",
       "      <td>min</td>\n",
       "      <td>0.001</td>\n",
       "      <td>0.011</td>\n",
       "    </tr>\n",
       "    <tr>\n",
       "      <th>17</th>\n",
       "      <td>http://data.europa.eu/xsp/cn2024/060011000090</td>\n",
       "      <td>http://data.europa.eu/xsp/cn2024/310200000080</td>\n",
       "      <td>wet</td>\n",
       "      <td>residual</td>\n",
       "      <td>max</td>\n",
       "      <td>0.011</td>\n",
       "      <td>0.121</td>\n",
       "    </tr>\n",
       "  </tbody>\n",
       "</table>\n",
       "</div>"
      ],
      "text/plain": [
       "                                         crop_iri  \\\n",
       "9   http://data.europa.eu/xsp/cn2024/060011000090   \n",
       "10  http://data.europa.eu/xsp/cn2024/060011000090   \n",
       "11  http://data.europa.eu/xsp/cn2024/060011000090   \n",
       "12  http://data.europa.eu/xsp/cn2024/060011000090   \n",
       "13  http://data.europa.eu/xsp/cn2024/060011000090   \n",
       "14  http://data.europa.eu/xsp/cn2024/060011000090   \n",
       "15  http://data.europa.eu/xsp/cn2024/060011000090   \n",
       "16  http://data.europa.eu/xsp/cn2024/060011000090   \n",
       "17  http://data.europa.eu/xsp/cn2024/060011000090   \n",
       "\n",
       "                                         fert_iri climate_type  fert_type  \\\n",
       "9   http://data.europa.eu/xsp/cn2024/310200000080          wet  inorganic   \n",
       "10  http://data.europa.eu/xsp/cn2024/310200000080          wet  inorganic   \n",
       "11  http://data.europa.eu/xsp/cn2024/310200000080          wet  inorganic   \n",
       "12  http://data.europa.eu/xsp/cn2024/310200000080          wet    organic   \n",
       "13  http://data.europa.eu/xsp/cn2024/310200000080          wet    organic   \n",
       "14  http://data.europa.eu/xsp/cn2024/310200000080          wet    organic   \n",
       "15  http://data.europa.eu/xsp/cn2024/310200000080          wet   residual   \n",
       "16  http://data.europa.eu/xsp/cn2024/310200000080          wet   residual   \n",
       "17  http://data.europa.eu/xsp/cn2024/310200000080          wet   residual   \n",
       "\n",
       "   value_type  emission_factor  emission [kg_N20/ha]  \n",
       "9       value            0.016                 0.176  \n",
       "10        min            0.013                 0.143  \n",
       "11        max            0.019                 0.209  \n",
       "12      value            0.006                 0.066  \n",
       "13        min            0.001                 0.011  \n",
       "14        max            0.011                 0.121  \n",
       "15      value            0.006                 0.066  \n",
       "16        min            0.001                 0.011  \n",
       "17        max            0.011                 0.121  "
      ]
     },
     "execution_count": 19,
     "metadata": {},
     "output_type": "execute_result"
    }
   ],
   "source": [
    "df_emission"
   ]
  },
  {
   "cell_type": "code",
   "execution_count": null,
   "id": "8c5ddac5-3398-4ad5-9006-65a513edc974",
   "metadata": {},
   "outputs": [],
   "source": []
  }
 ],
 "metadata": {
  "kernelspec": {
   "display_name": "Python [conda env:sentier]",
   "language": "python",
   "name": "conda-env-sentier-py"
  },
  "language_info": {
   "codemirror_mode": {
    "name": "ipython",
    "version": 3
   },
   "file_extension": ".py",
   "mimetype": "text/x-python",
   "name": "python",
   "nbconvert_exporter": "python",
   "pygments_lexer": "ipython3",
   "version": "3.12.7"
  }
 },
 "nbformat": 4,
 "nbformat_minor": 5
}
