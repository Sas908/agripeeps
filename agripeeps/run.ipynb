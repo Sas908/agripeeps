{
 "cells": [
  {
   "cell_type": "code",
   "execution_count": 42,
   "id": "aff0adc2-78db-4c9d-aa02-7ac88f247fef",
   "metadata": {},
   "outputs": [
    {
     "name": "stdout",
     "output_type": "stream",
     "text": [
      "The autoreload extension is already loaded. To reload it, use:\n",
      "  %reload_ext autoreload\n"
     ]
    },
    {
     "data": {
      "text/plain": [
       "'\\nfrom main import Crop, UserInput, RunConfig\\n\\nfrom sentier_data_tools import (\\n    DatasetKind,\\n    Demand,\\n    Flow,\\n    FlowIRI,\\n    GeonamesIRI,\\n    ModelTermIRI,\\n    ProductIRI,\\n    SentierModel,\\n)\\nfrom sentier_data_tools.iri import ProductIRI#, GeonamesIRI\\n#from sentier_data_tools.model import SentierModel\\nimport DirectFertiliserEmission as dfe\\n'"
      ]
     },
     "execution_count": 42,
     "metadata": {},
     "output_type": "execute_result"
    }
   ],
   "source": [
    "%load_ext autoreload\n",
    "%autoreload 2\n",
    "%run main.py\n",
    "\"\"\"\n",
    "from main import Crop, UserInput, RunConfig\n",
    "\n",
    "from sentier_data_tools import (\n",
    "    DatasetKind,\n",
    "    Demand,\n",
    "    Flow,\n",
    "    FlowIRI,\n",
    "    GeonamesIRI,\n",
    "    ModelTermIRI,\n",
    "    ProductIRI,\n",
    "    SentierModel,\n",
    ")\n",
    "from sentier_data_tools.iri import ProductIRI#, GeonamesIRI\n",
    "#from sentier_data_tools.model import SentierModel\n",
    "import DirectFertiliserEmission as dfe\n",
    "\"\"\""
   ]
  },
  {
   "cell_type": "code",
   "execution_count": 43,
   "id": "9880c803-59cc-4050-a33c-ab76e9bc0710",
   "metadata": {},
   "outputs": [],
   "source": [
    "product_iri = ProductIRI(\"http://data.europa.eu/xsp/cn2024/100500000080\")\n",
    "amount = 7\n",
    "unit = ProductIRI(\"https://vocab.sentier.dev/units/unit/KiloGM\")"
   ]
  },
  {
   "cell_type": "code",
   "execution_count": 44,
   "id": "db38edc2-5c5b-4bbb-9cf6-eab882aea9a6",
   "metadata": {},
   "outputs": [
    {
     "data": {
      "text/plain": [
       "<http://data.europa.eu/xsp/cn2024/100500000080>: 1005 Maize (corn) (product)"
      ]
     },
     "execution_count": 44,
     "metadata": {},
     "output_type": "execute_result"
    }
   ],
   "source": [
    "product_iri"
   ]
  },
  {
   "cell_type": "code",
   "execution_count": 45,
   "id": "038561ab-943a-4249-b701-a2a374d675f0",
   "metadata": {},
   "outputs": [
    {
     "data": {
      "text/plain": [
       "'https://sws.geonames.org/2782113'"
      ]
     },
     "execution_count": 45,
     "metadata": {},
     "output_type": "execute_result"
    }
   ],
   "source": [
    "'https://sws.geonames.org/2782113'"
   ]
  },
  {
   "cell_type": "code",
   "execution_count": 46,
   "id": "68abead4-a350-4e1c-a980-e918ee06c131",
   "metadata": {},
   "outputs": [],
   "source": [
    "user_input = UserInput(\n",
    "    product_iri=product_iri,\n",
    "    unit = unit,\n",
    "    amount=amount\n",
    "    #climate_type ='wet'\n",
    ")"
   ]
  },
  {
   "cell_type": "code",
   "execution_count": 47,
   "id": "ad8a2a88-c7bb-4c6e-8aa1-6afa668b939f",
   "metadata": {},
   "outputs": [
    {
     "data": {
      "text/plain": [
       "UserInput(product_iri=<http://data.europa.eu/xsp/cn2024/100500000080>: 1005 Maize (corn) (product), unit=<https://vocab.sentier.dev/units/unit/KiloGM>: Missing label (product), amount=7.0, crop_yield=None, fertilizer_amount=None, climate_type=None, spatial_context=GeonamesIRI('https://sws.geonames.org/2782113'), year='2018', begin_date=None, end_date=None)"
      ]
     },
     "execution_count": 47,
     "metadata": {},
     "output_type": "execute_result"
    }
   ],
   "source": [
    "user_input"
   ]
  },
  {
   "cell_type": "code",
   "execution_count": 48,
   "id": "8aea2f8d-6ae3-4d5d-b3f9-b6356eedde46",
   "metadata": {},
   "outputs": [],
   "source": [
    "run_config = RunConfig()"
   ]
  },
  {
   "cell_type": "code",
<<<<<<< HEAD
   "execution_count": 49,
=======
   "execution_count": 37,
>>>>>>> dev
   "id": "37116239-07bd-469e-a7ab-899c1225c995",
   "metadata": {},
   "outputs": [],
   "source": [
    "crop = Crop(user_input = user_input, run_config = run_config)"
   ]
  },
  {
   "cell_type": "code",
   "execution_count": 50,
   "id": "6592f6e3-8a04-4e98-bb0f-23433c9bf16c",
   "metadata": {},
   "outputs": [
    {
     "name": "stderr",
     "output_type": "stream",
     "text": [
      "INFO: create data\n",
      "INFO: Getting climate\n",
      "INFO: Getting crop yield and fertilizer amount\n"
     ]
    },
    {
     "name": "stdout",
     "output_type": "stream",
     "text": [
      "\u001b[2m20:55:24\u001b[0m [\u001b[32m\u001b[1minfo     \u001b[0m] \u001b[1mRetrieved 0 triples from https://fuseki.d-d-s.ch/skosmos/query\u001b[0m\n",
      "\u001b[2m20:55:24\u001b[0m [\u001b[32m\u001b[1minfo     \u001b[0m] \u001b[1mRetrieved 0 triples from https://fuseki.d-d-s.ch/skosmos/query\u001b[0m\n"
     ]
    },
    {
     "name": "stderr",
     "output_type": "stream",
     "text": [
      "INFO: Get fertilizer amount: 0    0.012020\n",
      "1    0.011607\n",
      "2    0.010500\n",
      "Name: mineral_fertilizer, dtype: float64\n"
     ]
    },
    {
     "name": "stdout",
     "output_type": "stream",
     "text": [
      "\u001b[2m20:55:24\u001b[0m [\u001b[32m\u001b[1minfo     \u001b[0m] \u001b[1mRetrieved 0 triples from https://fuseki.d-d-s.ch/skosmos/query\u001b[0m\n"
     ]
    },
    {
     "ename": "UnboundLocalError",
     "evalue": "cannot access local variable 'closest_match_IRI' where it is not associated with a value",
     "output_type": "error",
     "traceback": [
      "\u001b[0;31m---------------------------------------------------------------------------\u001b[0m",
      "\u001b[0;31mUnboundLocalError\u001b[0m                         Traceback (most recent call last)",
      "Cell \u001b[0;32mIn[50], line 1\u001b[0m\n\u001b[0;32m----> 1\u001b[0m \u001b[43mcrop\u001b[49m\u001b[38;5;241;43m.\u001b[39;49m\u001b[43mrun\u001b[49m\u001b[43m(\u001b[49m\u001b[43m)\u001b[49m\n",
      "File \u001b[0;32m~/Schools-2024-October-Switzerland/Projects/agripeeps/agripeeps/main.py:124\u001b[0m, in \u001b[0;36mCrop.run\u001b[0;34m(self)\u001b[0m\n\u001b[1;32m    122\u001b[0m     \u001b[38;5;28mself\u001b[39m\u001b[38;5;241m.\u001b[39mrun_create_data()\n\u001b[1;32m    123\u001b[0m \u001b[38;5;28mself\u001b[39m\u001b[38;5;241m.\u001b[39mget_all_input()\n\u001b[0;32m--> 124\u001b[0m \u001b[38;5;28;43mself\u001b[39;49m\u001b[38;5;241;43m.\u001b[39;49m\u001b[43mget_emissions\u001b[49m\u001b[43m(\u001b[49m\u001b[43m)\u001b[49m\n",
      "File \u001b[0;32m~/Schools-2024-October-Switzerland/Projects/agripeeps/agripeeps/main.py:117\u001b[0m, in \u001b[0;36mCrop.get_emissions\u001b[0;34m(self)\u001b[0m\n\u001b[1;32m    116\u001b[0m \u001b[38;5;28;01mdef\u001b[39;00m \u001b[38;5;21mget_emissions\u001b[39m(\u001b[38;5;28mself\u001b[39m) :\n\u001b[0;32m--> 117\u001b[0m     \u001b[38;5;28mself\u001b[39m\u001b[38;5;241m.\u001b[39memission_per_ha \u001b[38;5;241m=\u001b[39m \u001b[43mdfe\u001b[49m\u001b[38;5;241;43m.\u001b[39;49m\u001b[43mrun\u001b[49m\u001b[43m(\u001b[49m\u001b[38;5;28;43mself\u001b[39;49m\u001b[38;5;241;43m.\u001b[39;49m\u001b[43mdemand\u001b[49m\u001b[38;5;241;43m.\u001b[39;49m\u001b[43mproduct_iri\u001b[49m\u001b[43m,\u001b[49m\u001b[43m \u001b[49m\u001b[38;5;28;43mself\u001b[39;49m\u001b[38;5;241;43m.\u001b[39;49m\u001b[43mfertilizer_amount\u001b[49m\u001b[43m,\u001b[49m\u001b[43m \u001b[49m\u001b[38;5;28;43mself\u001b[39;49m\u001b[38;5;241;43m.\u001b[39;49m\u001b[43mclimate_key\u001b[49m\u001b[43m)\u001b[49m\n\u001b[1;32m    118\u001b[0m     logging\u001b[38;5;241m.\u001b[39minfo(\u001b[38;5;124m\"\u001b[39m\u001b[38;5;124mGetting emission from fertilizer\u001b[39m\u001b[38;5;124m\"\u001b[39m)\n",
      "File \u001b[0;32m~/Schools-2024-October-Switzerland/Projects/agripeeps/agripeeps/DirectFertiliserEmission.py:40\u001b[0m, in \u001b[0;36mrun\u001b[0;34m(product_IRI, fertilizer_n_per_ha, climate_key)\u001b[0m\n\u001b[1;32m     39\u001b[0m \u001b[38;5;28;01mdef\u001b[39;00m \u001b[38;5;21mrun\u001b[39m(product_IRI: ProductIRI, fertilizer_n_per_ha, climate_key: \u001b[38;5;28mstr\u001b[39m \u001b[38;5;241m=\u001b[39m \u001b[38;5;28;01mNone\u001b[39;00m):\n\u001b[0;32m---> 40\u001b[0m     \u001b[38;5;28;01mreturn\u001b[39;00m \u001b[43m_run\u001b[49m\u001b[43m(\u001b[49m\u001b[43mproduct_IRI\u001b[49m\u001b[43m,\u001b[49m\u001b[43m \u001b[49m\u001b[43mfertilizer_n_per_ha\u001b[49m\u001b[43m,\u001b[49m\u001b[43m \u001b[49m\u001b[43mclimate_key\u001b[49m\u001b[43m)\u001b[49m\n",
      "File \u001b[0;32m~/Schools-2024-October-Switzerland/Projects/agripeeps/agripeeps/DirectFertiliserEmission.py:33\u001b[0m, in \u001b[0;36m_run\u001b[0;34m(product_IRI, N_total, climate_key)\u001b[0m\n\u001b[1;32m     32\u001b[0m \u001b[38;5;28;01mdef\u001b[39;00m \u001b[38;5;21m_run\u001b[39m(product_IRI: ProductIRI, N_total: \u001b[38;5;28mfloat\u001b[39m, climate_key: \u001b[38;5;28mstr\u001b[39m \u001b[38;5;241m=\u001b[39m \u001b[38;5;28;01mNone\u001b[39;00m):\n\u001b[0;32m---> 33\u001b[0m     emission_factors \u001b[38;5;241m=\u001b[39m \u001b[43mget_emission_factors\u001b[49m\u001b[43m(\u001b[49m\u001b[43mproduct_IRI\u001b[49m\u001b[43m,\u001b[49m\u001b[43m \u001b[49m\u001b[43mclimate_key\u001b[49m\u001b[43m)\u001b[49m\n\u001b[1;32m     34\u001b[0m     df_emission \u001b[38;5;241m=\u001b[39m get_emission(emission_factors, N_total)\n\u001b[1;32m     36\u001b[0m     logging\u001b[38;5;241m.\u001b[39minfo(df_emission)\n",
      "File \u001b[0;32m~/Schools-2024-October-Switzerland/Projects/agripeeps/agripeeps/DirectFertiliserEmission.py:19\u001b[0m, in \u001b[0;36mget_emission_factors\u001b[0;34m(product_IRI, climate_key)\u001b[0m\n\u001b[1;32m     17\u001b[0m df_emission_factors_formatted \u001b[38;5;241m=\u001b[39m fct\u001b[38;5;241m.\u001b[39mformat_df(df_emission_factors, [\u001b[38;5;124m'\u001b[39m\u001b[38;5;124mcrop_iri\u001b[39m\u001b[38;5;124m'\u001b[39m,\u001b[38;5;124m'\u001b[39m\u001b[38;5;124mfert_iri\u001b[39m\u001b[38;5;124m'\u001b[39m])\n\u001b[1;32m     18\u001b[0m unique_IRI_crop \u001b[38;5;241m=\u001b[39m \u001b[38;5;28mlist\u001b[39m(pd\u001b[38;5;241m.\u001b[39munique(df_emission_factors_formatted[\u001b[38;5;124m'\u001b[39m\u001b[38;5;124mcrop_iri\u001b[39m\u001b[38;5;124m'\u001b[39m]))\n\u001b[0;32m---> 19\u001b[0m crop_match_IRI \u001b[38;5;241m=\u001b[39m \u001b[43mfct\u001b[49m\u001b[38;5;241;43m.\u001b[39;49m\u001b[43mfind_match_IRI\u001b[49m\u001b[43m(\u001b[49m\u001b[43mproduct_IRI\u001b[49m\u001b[43m,\u001b[49m\u001b[43m \u001b[49m\u001b[43munique_IRI_crop\u001b[49m\u001b[43m)\u001b[49m\n\u001b[1;32m     21\u001b[0m \u001b[38;5;66;03m#filter\u001b[39;00m\n\u001b[1;32m     22\u001b[0m emission_factors_filtered \u001b[38;5;241m=\u001b[39m df_emission_factors[df_emission_factors[\u001b[38;5;124m'\u001b[39m\u001b[38;5;124mclimate_type\u001b[39m\u001b[38;5;124m'\u001b[39m] \u001b[38;5;241m==\u001b[39m climate_key]\n",
      "File \u001b[0;32m~/Schools-2024-October-Switzerland/Projects/agripeeps/agripeeps/function.py:22\u001b[0m, in \u001b[0;36mfind_match_IRI\u001b[0;34m(product_IRI, unique_IRI_list, allow_broader)\u001b[0m\n\u001b[1;32m     20\u001b[0m     \u001b[38;5;28;01melse\u001b[39;00m: \n\u001b[1;32m     21\u001b[0m         logging\u001b[38;5;241m.\u001b[39mERROR(\u001b[38;5;124m'\u001b[39m\u001b[38;5;124mExact match not found, please set allow_broader to True to find closest match\u001b[39m\u001b[38;5;124m'\u001b[39m)\n\u001b[0;32m---> 22\u001b[0m \u001b[38;5;28;01mreturn\u001b[39;00m \u001b[43mclosest_match_IRI\u001b[49m\n",
      "\u001b[0;31mUnboundLocalError\u001b[0m: cannot access local variable 'closest_match_IRI' where it is not associated with a value"
     ]
    }
   ],
   "source": [
    "crop.run()"
   ]
  },
  {
   "cell_type": "code",
   "execution_count": 20,
   "id": "9592c54b-864b-4733-ae25-ee88a57498ba",
   "metadata": {},
   "outputs": [
    {
     "data": {
      "text/html": [
       "<div>\n",
       "<style scoped>\n",
       "    .dataframe tbody tr th:only-of-type {\n",
       "        vertical-align: middle;\n",
       "    }\n",
       "\n",
       "    .dataframe tbody tr th {\n",
       "        vertical-align: top;\n",
       "    }\n",
       "\n",
       "    .dataframe thead th {\n",
       "        text-align: right;\n",
       "    }\n",
       "</style>\n",
       "<table border=\"1\" class=\"dataframe\">\n",
       "  <thead>\n",
       "    <tr style=\"text-align: right;\">\n",
       "      <th></th>\n",
       "      <th>https://vocab.sentier.dev/model-terms/generic/company</th>\n",
       "      <th>year</th>\n",
       "      <th>mineral_fertilizer</th>\n",
       "    </tr>\n",
       "  </thead>\n",
       "  <tbody>\n",
       "    <tr>\n",
       "      <th>0</th>\n",
       "      <td>FAO</td>\n",
       "      <td>1990</td>\n",
       "      <td>0.012020</td>\n",
       "    </tr>\n",
       "    <tr>\n",
       "      <th>1</th>\n",
       "      <td>FAO</td>\n",
       "      <td>1992</td>\n",
       "      <td>0.011607</td>\n",
       "    </tr>\n",
       "    <tr>\n",
       "      <th>2</th>\n",
       "      <td>FAO</td>\n",
       "      <td>2018</td>\n",
       "      <td>0.010500</td>\n",
       "    </tr>\n",
       "  </tbody>\n",
       "</table>\n",
       "</div>"
      ],
      "text/plain": [
       "  https://vocab.sentier.dev/model-terms/generic/company  year  \\\n",
       "0                                                FAO     1990   \n",
       "1                                                FAO     1992   \n",
       "2                                                FAO     2018   \n",
       "\n",
       "   mineral_fertilizer  \n",
       "0            0.012020  \n",
       "1            0.011607  \n",
       "2            0.010500  "
      ]
     },
     "execution_count": 20,
     "metadata": {},
     "output_type": "execute_result"
    }
   ],
   "source": [
    "crop.list_mineral_fertilizer_data[0].dataframe"
   ]
  },
  {
   "cell_type": "code",
   "execution_count": 48,
   "id": "913f5cb8-1f33-49e6-ab2d-5141dc72b252",
   "metadata": {},
   "outputs": [
    {
     "data": {
      "text/plain": [
       "str"
      ]
     },
     "execution_count": 48,
     "metadata": {},
     "output_type": "execute_result"
    }
   ],
   "source": [
    "type(crop.list_mineral_fertilizer_data[0].dataframe.year[0])"
   ]
  },
  {
   "cell_type": "code",
   "execution_count": 24,
   "id": "ab00f020-5b16-4e46-bbc6-b2accff82c45",
   "metadata": {},
   "outputs": [
    {
     "data": {
      "text/html": [
       "<div>\n",
       "<style scoped>\n",
       "    .dataframe tbody tr th:only-of-type {\n",
       "        vertical-align: middle;\n",
       "    }\n",
       "\n",
       "    .dataframe tbody tr th {\n",
       "        vertical-align: top;\n",
       "    }\n",
       "\n",
       "    .dataframe thead th {\n",
       "        text-align: right;\n",
       "    }\n",
       "</style>\n",
       "<table border=\"1\" class=\"dataframe\">\n",
       "  <thead>\n",
       "    <tr style=\"text-align: right;\">\n",
       "      <th></th>\n",
       "      <th>https://vocab.sentier.dev/model-terms/generic/company</th>\n",
       "      <th>http://purl.org/dc/terms/date</th>\n",
       "      <th>mineral_fertilizer</th>\n",
       "    </tr>\n",
       "  </thead>\n",
       "  <tbody>\n",
       "    <tr>\n",
       "      <th>0</th>\n",
       "      <td>FAO</td>\n",
       "      <td>1990</td>\n",
       "      <td>0.012020</td>\n",
       "    </tr>\n",
       "    <tr>\n",
       "      <th>1</th>\n",
       "      <td>FAO</td>\n",
       "      <td>1992</td>\n",
       "      <td>0.011607</td>\n",
       "    </tr>\n",
       "    <tr>\n",
       "      <th>2</th>\n",
       "      <td>FAO</td>\n",
       "      <td>2018</td>\n",
       "      <td>0.010500</td>\n",
       "    </tr>\n",
       "  </tbody>\n",
       "</table>\n",
       "</div>"
      ],
      "text/plain": [
       "  https://vocab.sentier.dev/model-terms/generic/company  \\\n",
       "0                                                FAO      \n",
       "1                                                FAO      \n",
       "2                                                FAO      \n",
       "\n",
       "  http://purl.org/dc/terms/date  mineral_fertilizer  \n",
       "0                          1990            0.012020  \n",
       "1                          1992            0.011607  \n",
       "2                          2018            0.010500  "
      ]
     },
     "execution_count": 24,
     "metadata": {},
     "output_type": "execute_result"
    }
   ],
   "source": [
    "crop.list_mineral_fertilizer_data[0].dataframe"
   ]
  },
  {
   "cell_type": "code",
   "execution_count": 12,
   "id": "35b746ee-fa83-42e5-8720-6125a44348d5",
   "metadata": {},
   "outputs": [
    {
     "data": {
      "text/plain": [
       "'fertiliser input on fields for http://data.europa.eu/xsp/cn2024/100500000080 in https://sws.geonames.org/2782113'"
      ]
     },
     "execution_count": 12,
     "metadata": {},
     "output_type": "execute_result"
    }
   ],
   "source": [
    "crop.list_mineral_fertilizer_data[0].name"
   ]
  },
  {
   "cell_type": "markdown",
   "id": "ebd010dd-05c8-4713-9ed0-39d62f7a4a4c",
   "metadata": {},
   "source": [
    "crop.get_model_data()"
   ]
  },
  {
   "cell_type": "code",
<<<<<<< HEAD
   "execution_count": null,
=======
   "execution_count": 38,
>>>>>>> dev
   "id": "06aa5379-571f-4715-91ae-ddaa0f0d7bee",
   "metadata": {},
   "outputs": [],
   "source": [
    "agridata = crop.get_all_input()"
   ]
  },
  {
   "cell_type": "code",
   "execution_count": 11,
   "id": "755452cf-e5ab-4505-9c7b-89bf8422cc43",
   "metadata": {},
   "outputs": [
    {
<<<<<<< HEAD
     "ename": "NameError",
     "evalue": "name 'agridata' is not defined",
     "output_type": "error",
     "traceback": [
      "\u001b[0;31m---------------------------------------------------------------------------\u001b[0m",
      "\u001b[0;31mNameError\u001b[0m                                 Traceback (most recent call last)",
      "Cell \u001b[0;32mIn[11], line 1\u001b[0m\n\u001b[0;32m----> 1\u001b[0m \u001b[43magridata\u001b[49m[\u001b[38;5;124m'\u001b[39m\u001b[38;5;124mexactMatch\u001b[39m\u001b[38;5;124m'\u001b[39m][\u001b[38;5;241m0\u001b[39m]\u001b[38;5;241m.\u001b[39mdataframe\n",
      "\u001b[0;31mNameError\u001b[0m: name 'agridata' is not defined"
=======
     "name": "stderr",
     "output_type": "stream",
     "text": [
      "INFO: http://data.europa.eu/xsp/cn2024/060011000090\n"
     ]
    },
    {
     "name": "stdout",
     "output_type": "stream",
     "text": [
      "\u001b[2m19:45:31\u001b[0m [\u001b[32m\u001b[1minfo     \u001b[0m] \u001b[1mRetrieved 17 triples from https://fuseki.d-d-s.ch/skosmos/query\u001b[0m\n",
      "\u001b[2m19:45:31\u001b[0m [\u001b[32m\u001b[1minfo     \u001b[0m] \u001b[1mRetrieved 7 triples from https://fuseki.d-d-s.ch/skosmos/query\u001b[0m\n"
     ]
    },
    {
     "name": "stderr",
     "output_type": "stream",
     "text": [
      "INFO: Set input data: https://vocab.sentier.dev/model-terms/crop_yield\n",
      "INFO: Set input data: https://vocab.sentier.dev/model-terms/crop_yield\n",
      "INFO: Set input data: https://vocab.sentier.dev/model-terms/crop_yield\n",
      "INFO: Set input data: https://vocab.sentier.dev/model-terms/crop_yield\n",
      "INFO: Set input data: https://vocab.sentier.dev/model-terms/crop_yield\n",
      "INFO: Set input data: https://vocab.sentier.dev/model-terms/crop_yield\n",
      "INFO: Set input data: https://vocab.sentier.dev/model-terms/crop_yield\n",
      "INFO: Set input data: https://vocab.sentier.dev/model-terms/crop_yield\n",
      "INFO: Set input data: https://vocab.sentier.dev/model-terms/crop_yield\n",
      "INFO: Set input data: https://vocab.sentier.dev/model-terms/crop_yield\n",
      "INFO: Set input data: https://vocab.sentier.dev/model-terms/crop_yield\n",
      "INFO: Set input data: https://vocab.sentier.dev/model-terms/crop_yield\n",
      "INFO: Set input data: https://vocab.sentier.dev/model-terms/crop_yield\n",
      "INFO: Set input data: https://vocab.sentier.dev/model-terms/crop_yield\n",
      "INFO: Set input data: https://vocab.sentier.dev/model-terms/crop_yield\n",
      "INFO: Set input data: https://vocab.sentier.dev/model-terms/crop_yield\n",
      "INFO: Set input data: https://vocab.sentier.dev/model-terms/crop_yield\n",
      "INFO: Set input data: https://vocab.sentier.dev/model-terms/crop_yield\n",
      "INFO: Set input data: https://vocab.sentier.dev/model-terms/crop_yield\n",
      "INFO: Set input data: https://vocab.sentier.dev/model-terms/crop_yield\n",
      "INFO: Set input data: https://vocab.sentier.dev/model-terms/crop_yield\n",
      "INFO: Set input data: https://vocab.sentier.dev/model-terms/crop_yield\n",
      "INFO: Set input data: https://vocab.sentier.dev/model-terms/crop_yield\n",
      "INFO: Set input data: https://vocab.sentier.dev/model-terms/crop_yield\n",
      "INFO: Set input data: https://vocab.sentier.dev/model-terms/crop_yield\n",
      "INFO: Set input data: https://vocab.sentier.dev/model-terms/crop_yield\n",
      "INFO: Set input data: https://vocab.sentier.dev/model-terms/crop_yield\n",
      "INFO: Set input data: https://vocab.sentier.dev/model-terms/crop_yield\n",
      "INFO: Set input data: https://vocab.sentier.dev/model-terms/crop_yield\n",
      "INFO: Set input data: https://vocab.sentier.dev/model-terms/crop_yield\n",
      "INFO: Set input data: https://vocab.sentier.dev/model-terms/crop_yield\n",
      "INFO: Set input data: https://vocab.sentier.dev/model-terms/crop_yield\n",
      "INFO: Set input data: https://vocab.sentier.dev/model-terms/crop_yield\n",
      "INFO: Set input data: https://vocab.sentier.dev/model-terms/crop_yield\n",
      "INFO: Set input data: https://vocab.sentier.dev/model-terms/crop_yield\n",
      "INFO: Set input data: https://vocab.sentier.dev/model-terms/crop_yield\n",
      "INFO: Set input data: https://vocab.sentier.dev/model-terms/crop_yield\n",
      "INFO: Set input data: https://vocab.sentier.dev/model-terms/crop_yield\n",
      "INFO: Set input data: https://vocab.sentier.dev/model-terms/crop_yield\n",
      "INFO: Set input data: https://vocab.sentier.dev/model-terms/crop_yield\n",
      "INFO: Set input data: https://vocab.sentier.dev/model-terms/crop_yield\n",
      "INFO: Set input data: https://vocab.sentier.dev/model-terms/crop_yield\n",
      "INFO: Set input data: https://vocab.sentier.dev/model-terms/crop_yield\n",
      "INFO: Set input data: https://vocab.sentier.dev/model-terms/crop_yield\n",
      "INFO: Set input data: https://vocab.sentier.dev/model-terms/crop_yield\n",
      "INFO: Set input data: https://vocab.sentier.dev/model-terms/crop_yield\n",
      "INFO: Set input data: https://vocab.sentier.dev/model-terms/crop_yield\n",
      "INFO: Set input data: https://vocab.sentier.dev/model-terms/crop_yield\n",
      "INFO: Set input data: https://vocab.sentier.dev/model-terms/crop_yield\n",
      "INFO: Set input data: https://vocab.sentier.dev/model-terms/crop_yield\n",
      "INFO: Set input data: https://vocab.sentier.dev/model-terms/crop_yield\n",
      "INFO: Set input data: https://vocab.sentier.dev/model-terms/crop_yield\n",
      "INFO: Set input data: https://vocab.sentier.dev/model-terms/crop_yield\n",
      "INFO: Set input data: https://vocab.sentier.dev/model-terms/crop_yield\n",
      "INFO: Set input data: https://vocab.sentier.dev/model-terms/crop_yield\n",
      "INFO: Set input data: https://vocab.sentier.dev/model-terms/crop_yield\n",
      "INFO: Set input data: https://vocab.sentier.dev/model-terms/crop_yield\n",
      "INFO: Set input data: https://vocab.sentier.dev/model-terms/crop_yield\n",
      "INFO: Set input data: https://vocab.sentier.dev/model-terms/crop_yield\n",
      "INFO: Set input data: https://vocab.sentier.dev/model-terms/crop_yield\n",
      "INFO: Set input data: https://vocab.sentier.dev/model-terms/crop_yield\n",
      "INFO: Set input data: https://vocab.sentier.dev/model-terms/crop_yield\n",
      "INFO: Set input data: https://vocab.sentier.dev/model-terms/crop_yield\n",
      "INFO: Set input data: https://vocab.sentier.dev/model-terms/crop_yield\n",
      "INFO: Set input data: https://vocab.sentier.dev/model-terms/crop_yield\n",
      "INFO: Set input data: https://vocab.sentier.dev/model-terms/crop_yield\n",
      "INFO: Set input data: https://vocab.sentier.dev/model-terms/crop_yield\n",
      "INFO: Set input data: https://vocab.sentier.dev/model-terms/crop_yield\n",
      "INFO: Set input data: https://vocab.sentier.dev/model-terms/crop_yield\n",
      "INFO: Set input data: https://vocab.sentier.dev/model-terms/crop_yield\n",
      "INFO: Set input data: https://vocab.sentier.dev/model-terms/crop_yield\n",
      "INFO: Set input data: https://vocab.sentier.dev/model-terms/crop_yield\n",
      "INFO: Set input data: https://vocab.sentier.dev/model-terms/crop_yield\n",
      "INFO: Set input data: https://vocab.sentier.dev/model-terms/crop_yield\n",
      "INFO: Set input data: https://vocab.sentier.dev/model-terms/crop_yield\n",
      "INFO: Set input data: https://vocab.sentier.dev/model-terms/crop_yield\n",
      "INFO: Set input data: https://vocab.sentier.dev/model-terms/crop_yield\n",
      "INFO: Set input data: https://vocab.sentier.dev/model-terms/crop_yield\n",
      "INFO: Set input data: https://vocab.sentier.dev/model-terms/crop_yield\n",
      "INFO: Set input data: https://vocab.sentier.dev/model-terms/crop_yield\n",
      "INFO: Set input data: https://vocab.sentier.dev/model-terms/crop_yield\n",
      "INFO: Set input data: https://vocab.sentier.dev/model-terms/crop_yield\n",
      "INFO: Set input data: https://vocab.sentier.dev/model-terms/crop_yield\n",
      "INFO: Set input data: https://vocab.sentier.dev/model-terms/crop_yield\n",
      "INFO: Set input data: https://vocab.sentier.dev/model-terms/crop_yield\n",
      "INFO: Set input data: https://vocab.sentier.dev/model-terms/crop_yield\n",
      "INFO: Set input data: https://vocab.sentier.dev/model-terms/crop_yield\n",
      "INFO: Set input data: https://vocab.sentier.dev/model-terms/crop_yield\n",
      "INFO: Set input data: https://vocab.sentier.dev/model-terms/crop_yield\n",
      "INFO: Set input data: https://vocab.sentier.dev/model-terms/crop_yield\n",
      "INFO: Set input data: https://vocab.sentier.dev/model-terms/crop_yield\n",
      "INFO: Set input data: https://vocab.sentier.dev/model-terms/crop_yield\n",
      "INFO: Set input data: https://vocab.sentier.dev/model-terms/crop_yield\n",
      "INFO: Set input data: https://vocab.sentier.dev/model-terms/crop_yield\n",
      "INFO: Set input data: https://vocab.sentier.dev/model-terms/crop_yield\n",
      "INFO: Set input data: https://vocab.sentier.dev/model-terms/crop_yield\n",
      "INFO: Set input data: https://vocab.sentier.dev/model-terms/crop_yield\n",
      "INFO: Set input data: https://vocab.sentier.dev/model-terms/crop_yield\n",
      "INFO: Set input data: https://vocab.sentier.dev/model-terms/crop_yield\n",
      "INFO: Set input data: https://vocab.sentier.dev/model-terms/crop_yield\n",
      "INFO: Set input data: https://vocab.sentier.dev/model-terms/crop_yield\n",
      "INFO: Set input data: https://vocab.sentier.dev/model-terms/crop_yield\n",
      "INFO: Set input data: https://vocab.sentier.dev/model-terms/crop_yield\n",
      "INFO: Set input data: https://vocab.sentier.dev/model-terms/crop_yield\n",
      "INFO: Set input data: https://vocab.sentier.dev/model-terms/crop_yield\n",
      "INFO: Set input data: https://vocab.sentier.dev/model-terms/crop_yield\n",
      "INFO: Set input data: https://vocab.sentier.dev/model-terms/crop_yield\n",
      "INFO: Set input data: https://vocab.sentier.dev/model-terms/crop_yield\n",
      "INFO: Set input data: https://vocab.sentier.dev/model-terms/crop_yield\n",
      "INFO: Set input data: https://vocab.sentier.dev/model-terms/crop_yield\n",
      "INFO: Set input data: https://vocab.sentier.dev/model-terms/crop_yield\n",
      "INFO: Set input data: https://vocab.sentier.dev/model-terms/crop_yield\n",
      "INFO: Set input data: https://vocab.sentier.dev/model-terms/crop_yield\n",
      "INFO: Set input data: https://vocab.sentier.dev/model-terms/crop_yield\n",
      "INFO: Set input data: https://vocab.sentier.dev/model-terms/crop_yield\n",
      "INFO: Set input data: https://vocab.sentier.dev/model-terms/crop_yield\n",
      "INFO: Set input data: https://vocab.sentier.dev/model-terms/crop_yield\n",
      "INFO: Set input data: https://vocab.sentier.dev/model-terms/crop_yield\n",
      "INFO: Set input data: https://vocab.sentier.dev/model-terms/crop_yield\n",
      "INFO: Set input data: https://vocab.sentier.dev/model-terms/crop_yield\n",
      "INFO: Set input data: https://vocab.sentier.dev/model-terms/crop_yield\n",
      "INFO: Set input data: https://vocab.sentier.dev/model-terms/crop_yield\n",
      "INFO: Set input data: https://vocab.sentier.dev/model-terms/crop_yield\n",
      "INFO: Set input data: https://vocab.sentier.dev/model-terms/crop_yield\n",
      "INFO: Set input data: https://vocab.sentier.dev/model-terms/crop_yield\n",
      "INFO: Set input data: https://vocab.sentier.dev/model-terms/crop_yield\n",
      "INFO: Set input data: https://vocab.sentier.dev/model-terms/crop_yield\n",
      "INFO: Set input data: https://vocab.sentier.dev/model-terms/crop_yield\n",
      "INFO: Set input data: https://vocab.sentier.dev/model-terms/crop_yield\n",
      "INFO: Set input data: https://vocab.sentier.dev/model-terms/crop_yield\n",
      "INFO: Set input data: https://vocab.sentier.dev/model-terms/crop_yield\n",
      "INFO: Set input data: https://vocab.sentier.dev/model-terms/crop_yield\n",
      "INFO: Set input data: https://vocab.sentier.dev/model-terms/crop_yield\n",
      "INFO: Set input data: https://vocab.sentier.dev/model-terms/crop_yield\n",
      "INFO: Set input data: https://vocab.sentier.dev/model-terms/crop_yield\n",
      "INFO: Set input data: https://vocab.sentier.dev/model-terms/crop_yield\n",
      "INFO: Set input data: https://vocab.sentier.dev/model-terms/crop_yield\n",
      "INFO: Set input data: https://vocab.sentier.dev/model-terms/crop_yield\n",
      "INFO: Set input data: https://vocab.sentier.dev/model-terms/crop_yield\n",
      "INFO: Set input data: https://vocab.sentier.dev/model-terms/crop_yield\n",
      "INFO: Set input data: https://vocab.sentier.dev/model-terms/crop_yield\n",
      "INFO: Set input data: https://vocab.sentier.dev/model-terms/crop_yield\n",
      "INFO: Set input data: https://vocab.sentier.dev/model-terms/crop_yield\n",
      "INFO: Set input data: https://vocab.sentier.dev/model-terms/crop_yield\n",
      "INFO: Set input data: https://vocab.sentier.dev/model-terms/crop_yield\n",
      "INFO: Set input data: https://vocab.sentier.dev/model-terms/crop_yield\n",
      "INFO: Set input data: https://vocab.sentier.dev/model-terms/crop_yield\n",
      "INFO: Set input data: https://vocab.sentier.dev/model-terms/crop_yield\n",
      "INFO: Set input data: https://vocab.sentier.dev/model-terms/crop_yield\n",
      "INFO: Set input data: https://vocab.sentier.dev/model-terms/crop_yield\n",
      "INFO: Set input data: https://vocab.sentier.dev/model-terms/crop_yield\n",
      "INFO: Set input data: https://vocab.sentier.dev/model-terms/crop_yield\n",
      "INFO: Set input data: https://vocab.sentier.dev/model-terms/crop_yield\n",
      "INFO: Set input data: https://vocab.sentier.dev/model-terms/crop_yield\n",
      "INFO: Set input data: https://vocab.sentier.dev/model-terms/crop_yield\n",
      "INFO: Set input data: https://vocab.sentier.dev/model-terms/crop_yield\n",
      "INFO: Set input data: https://vocab.sentier.dev/model-terms/crop_yield\n",
      "INFO: Set input data: https://vocab.sentier.dev/model-terms/crop_yield\n",
      "INFO: Set input data: https://vocab.sentier.dev/model-terms/crop_yield\n",
      "INFO: Set input data: https://vocab.sentier.dev/model-terms/crop_yield\n",
      "INFO: Set input data: https://vocab.sentier.dev/model-terms/crop_yield\n",
      "INFO: Set input data: https://vocab.sentier.dev/model-terms/crop_yield\n",
      "INFO: Set input data: https://vocab.sentier.dev/model-terms/crop_yield\n",
      "INFO: Set input data: https://vocab.sentier.dev/model-terms/crop_yield\n",
      "INFO: Set input data: https://vocab.sentier.dev/model-terms/crop_yield\n",
      "INFO: Set input data: https://vocab.sentier.dev/model-terms/crop_yield\n",
      "INFO: Set input data: https://vocab.sentier.dev/model-terms/crop_yield\n",
      "INFO: Set input data: https://vocab.sentier.dev/model-terms/crop_yield\n",
      "INFO: Set input data: https://vocab.sentier.dev/model-terms/crop_yield\n",
      "INFO: Set input data: https://vocab.sentier.dev/model-terms/crop_yield\n",
      "INFO: Set input data: https://vocab.sentier.dev/model-terms/crop_yield\n",
      "INFO: Set input data: https://vocab.sentier.dev/model-terms/crop_yield\n",
      "INFO: Set input data: https://vocab.sentier.dev/model-terms/crop_yield\n",
      "INFO: Set input data: https://vocab.sentier.dev/model-terms/crop_yield\n",
      "INFO: Set input data: https://vocab.sentier.dev/model-terms/crop_yield\n",
      "INFO: Set input data: https://vocab.sentier.dev/model-terms/crop_yield\n",
      "INFO: Set input data: https://vocab.sentier.dev/model-terms/crop_yield\n",
      "INFO: Set input data: https://vocab.sentier.dev/model-terms/crop_yield\n",
      "INFO: Set input data: https://vocab.sentier.dev/model-terms/crop_yield\n",
      "INFO: Set input data: https://vocab.sentier.dev/model-terms/crop_yield\n",
      "INFO: Set input data: https://vocab.sentier.dev/model-terms/crop_yield\n",
      "INFO: Set input data: https://vocab.sentier.dev/model-terms/crop_yield\n",
      "INFO: Set input data: https://vocab.sentier.dev/model-terms/crop_yield\n",
      "INFO: Set input data: https://vocab.sentier.dev/model-terms/crop_yield\n",
      "INFO: Set input data: https://vocab.sentier.dev/model-terms/crop_yield\n",
      "INFO: Set input data: https://vocab.sentier.dev/model-terms/crop_yield\n",
      "INFO: Set input data: https://vocab.sentier.dev/model-terms/crop_yield\n",
      "INFO: Set input data: https://vocab.sentier.dev/model-terms/crop_yield\n",
      "INFO: Getting master db\n"
>>>>>>> dev
     ]
    }
   ],
   "source": [
    "agridata['exactMatch'][0].dataframe"
   ]
  },
  {
   "cell_type": "code",
   "execution_count": 39,
   "id": "f15fd402-797e-4d57-b52d-a2c42e75ef6d",
   "metadata": {},
   "outputs": [
    {
     "name": "stdout",
     "output_type": "stream",
     "text": [
      "   https://vocab.sentier.dev/model-terms/generic/company  \\\n",
      "0                                                 FAO      \n",
      "1                                                 FAO      \n",
      "2                                                 FAO      \n",
      "3                                                 FAO      \n",
      "4                                                 FAO      \n",
      "..                                                ...      \n",
      "57                                                FAO      \n",
      "58                                                FAO      \n",
      "59                                                FAO      \n",
      "60                                                FAO      \n",
      "61                                                FAO      \n",
      "\n",
      "   http://purl.org/dc/terms/date  crop_yield  \n",
      "0                           1961    0.013123  \n",
      "1                           1962    0.013048  \n",
      "2                           1963    0.013092  \n",
      "3                           1964    0.011606  \n",
      "4                           1965    0.013809  \n",
      "..                           ...         ...  \n",
      "57                          2018    0.051076  \n",
      "58                          2019    0.057734  \n",
      "59                          2020    0.056953  \n",
      "60                          2021    0.046497  \n",
      "61                          2022    0.052012  \n",
      "\n",
      "[62 rows x 3 columns]\n"
     ]
    }
   ],
   "source": [
    "from sentier_data_tools.local_storage.db import Dataset\n",
    "for ds in agridata[\"exactMatch\"]:\n",
    "    #print(type(ds.location)) #\n",
    "    if ds.location == GeonamesIRI(\"https://sws.geonames.org/3469034\"):\n",
    "        print(ds.dataframe)"
   ]
  },
  {
   "cell_type": "code",
   "execution_count": 27,
   "id": "570d5cec-5249-4ce2-86c3-d8db6bab84dc",
   "metadata": {},
   "outputs": [
    {
     "ename": "AttributeError",
     "evalue": "'Crop' object has no attribute 'crop_yield_data'",
     "output_type": "error",
     "traceback": [
      "\u001b[0;31m---------------------------------------------------------------------------\u001b[0m",
      "\u001b[0;31mAttributeError\u001b[0m                            Traceback (most recent call last)",
      "Cell \u001b[0;32mIn[27], line 1\u001b[0m\n\u001b[0;32m----> 1\u001b[0m \u001b[43mcrop\u001b[49m\u001b[38;5;241;43m.\u001b[39;49m\u001b[43mcrop_yield_data\u001b[49m\n",
      "\u001b[0;31mAttributeError\u001b[0m: 'Crop' object has no attribute 'crop_yield_data'"
     ]
    }
   ],
   "source": [
    "crop.crop_yield_data"
   ]
  },
  {
   "cell_type": "code",
   "execution_count": 31,
   "id": "4de011df-3ba7-42ce-8c07-d89c9be754db",
   "metadata": {},
   "outputs": [
    {
     "data": {
      "text/plain": [
       "[{'iri': 'http://purl.org/dc/terms/date',\n",
       "  'unit': 'https://www.w3.org/2001/XMLSchema#string'},\n",
       " {'iri': 'http://purl.org/dc/terms/Location',\n",
       "  'unit': 'https://www.w3.org/2001/XMLSchema#string'},\n",
       " {'iri': 'http://data.europa.eu/xsp/cn2024/060011000090',\n",
       "  'unit': 'https://www.w3.org/2001/XMLSchema#string'},\n",
       " {'iri': 'http://data.europa.eu/xsp/cn2024/310200000080',\n",
       "  'unit': 'https://vocab.sentier.dev/units/unit/KiloGM-PER-M2'}]"
      ]
     },
     "metadata": {},
     "output_type": "display_data"
    }
   ],
   "source": [
    "from function import format_df\n",
    "\n",
    "for i in agridata[\"exactMatch\"]:\n",
    "    display(i.columns)"
   ]
  },
  {
   "cell_type": "code",
   "execution_count": 9,
   "id": "44aef00b-2c83-4928-ae48-dd7d7e8fccd0",
   "metadata": {},
   "outputs": [
    {
     "name": "stderr",
     "output_type": "stream",
     "text": [
      "INFO: Getting master db\n",
      "INFO: Getting crop yield and fertilizer amount\n"
     ]
    },
    {
     "name": "stdout",
     "output_type": "stream",
     "text": [
      "\u001b[2m13:41:33\u001b[0m [\u001b[32m\u001b[1minfo     \u001b[0m] \u001b[1mRetrieved 17 triples from https://fuseki.d-d-s.ch/skosmos/query\u001b[0m\n"
     ]
    },
    {
     "name": "stderr",
     "output_type": "stream",
     "text": [
      "INFO: Found broader match for <http://data.europa.eu/xsp/cn2024/060011000090>: SECTION II - VEGETABLE PRODUCTS (product)\n",
      "INFO:                                         crop_iri  \\\n",
      "3  http://data.europa.eu/xsp/cn2024/060011000090   \n",
      "4  http://data.europa.eu/xsp/cn2024/060011000090   \n",
      "5  http://data.europa.eu/xsp/cn2024/060011000090   \n",
      "\n",
      "                                        fert_iri climate_type fert_type  \\\n",
      "3  http://data.europa.eu/xsp/cn2024/310200000080      default   default   \n",
      "4  http://data.europa.eu/xsp/cn2024/310200000080      default   default   \n",
      "5  http://data.europa.eu/xsp/cn2024/310200000080      default   default   \n",
      "\n",
      "  value_type  emission_factor  emission [kg_N20/ha]  \n",
      "3      value            0.010                  1.10  \n",
      "4        min            0.001                  0.11  \n",
      "5        max            0.018                  1.98  \n",
      "INFO: Getting emission from fertilizer\n"
     ]
    }
   ],
   "source": [
    "resulting_demands = crop.run()"
   ]
  },
  {
   "cell_type": "code",
   "execution_count": null,
   "id": "b3f25220-515f-4474-89d5-f3d2427fba02",
   "metadata": {},
   "outputs": [],
   "source": [
    "resulting_demands"
   ]
  },
  {
   "cell_type": "markdown",
   "id": "b825b735-a3e7-49d5-98a2-2ca803e62ac7",
   "metadata": {},
   "source": [
    "# Main tst SentierModel"
   ]
  },
  {
   "cell_type": "code",
   "execution_count": null,
   "id": "9981d8dc-665d-4dfc-bcfd-4587b8a39073",
   "metadata": {},
   "outputs": [],
   "source": [
    "import sentier_data_tools"
   ]
  },
  {
   "cell_type": "code",
   "execution_count": null,
   "id": "2c0388a3-6c3e-4ea8-8271-55ec64325f56",
   "metadata": {},
   "outputs": [],
   "source": [
    "sentier_data_tools.__version__"
   ]
  },
  {
   "cell_type": "code",
   "execution_count": null,
   "id": "39d124c8-38bd-4f98-9745-6238b258def9",
   "metadata": {},
   "outputs": [],
   "source": [
    "%run main_tst.py"
   ]
  },
  {
   "cell_type": "markdown",
   "id": "afaadba9-4511-497d-9503-5184ef7e0e04",
   "metadata": {},
   "source": [
    "# n2OToAirInorganicFertiliserDirect_dev.py"
   ]
  },
  {
   "cell_type": "code",
   "execution_count": 1,
   "id": "49e01b60-3a47-4385-820a-11a65693c1f2",
   "metadata": {},
   "outputs": [],
   "source": [
    "import n2OToAirInorganicFertiliserDirect_dev as n2o"
   ]
  },
  {
   "cell_type": "code",
   "execution_count": 2,
   "id": "c804cbd4-ea7c-4628-96a6-0150a4f60ddb",
   "metadata": {},
   "outputs": [],
   "source": [
    "import pandas as pd"
   ]
  },
  {
   "cell_type": "code",
   "execution_count": 9,
   "id": "58cecc4f-f290-4e43-919c-888f67796884",
   "metadata": {},
   "outputs": [],
   "source": [
    "product_iri = ProductIRI(\"http://data.europa.eu/xsp/cn2024/100500000080\")"
   ]
  },
  {
   "cell_type": "code",
   "execution_count": 10,
   "id": "6a336123-a603-4bf0-8473-e4f26d25aeba",
   "metadata": {},
   "outputs": [
    {
     "ename": "Exception",
     "evalue": "File `'(product_iri,'` not found.",
     "output_type": "error",
     "traceback": [
      "\u001b[0;31m---------------------------------------------------------------------------\u001b[0m",
      "\u001b[0;31mOSError\u001b[0m                                   Traceback (most recent call last)",
      "File \u001b[0;32m/opt/tljh/user/envs/sentier/lib/python3.12/site-packages/IPython/core/magics/execution.py:716\u001b[0m, in \u001b[0;36mExecutionMagics.run\u001b[0;34m(self, parameter_s, runner, file_finder)\u001b[0m\n\u001b[1;32m    715\u001b[0m     fpath \u001b[38;5;241m=\u001b[39m arg_lst[\u001b[38;5;241m0\u001b[39m]\n\u001b[0;32m--> 716\u001b[0m     filename \u001b[38;5;241m=\u001b[39m \u001b[43mfile_finder\u001b[49m\u001b[43m(\u001b[49m\u001b[43mfpath\u001b[49m\u001b[43m)\u001b[49m\n\u001b[1;32m    717\u001b[0m \u001b[38;5;28;01mexcept\u001b[39;00m \u001b[38;5;167;01mIndexError\u001b[39;00m \u001b[38;5;28;01mas\u001b[39;00m e:\n",
      "File \u001b[0;32m/opt/tljh/user/envs/sentier/lib/python3.12/site-packages/IPython/utils/path.py:91\u001b[0m, in \u001b[0;36mget_py_filename\u001b[0;34m(name)\u001b[0m\n\u001b[1;32m     90\u001b[0m         \u001b[38;5;28;01mreturn\u001b[39;00m py_name\n\u001b[0;32m---> 91\u001b[0m \u001b[38;5;28;01mraise\u001b[39;00m \u001b[38;5;167;01mIOError\u001b[39;00m(\u001b[38;5;124m\"\u001b[39m\u001b[38;5;124mFile `\u001b[39m\u001b[38;5;132;01m%r\u001b[39;00m\u001b[38;5;124m` not found.\u001b[39m\u001b[38;5;124m\"\u001b[39m \u001b[38;5;241m%\u001b[39m name)\n",
      "\u001b[0;31mOSError\u001b[0m: File `'(product_iri,'` not found.",
      "\nThe above exception was the direct cause of the following exception:\n",
      "\u001b[0;31mException\u001b[0m                                 Traceback (most recent call last)",
      "Cell \u001b[0;32mIn[10], line 1\u001b[0m\n\u001b[0;32m----> 1\u001b[0m \u001b[43mget_ipython\u001b[49m\u001b[43m(\u001b[49m\u001b[43m)\u001b[49m\u001b[38;5;241;43m.\u001b[39;49m\u001b[43mrun_line_magic\u001b[49m\u001b[43m(\u001b[49m\u001b[38;5;124;43m'\u001b[39;49m\u001b[38;5;124;43mrun\u001b[39;49m\u001b[38;5;124;43m'\u001b[39;49m\u001b[43m,\u001b[49m\u001b[43m \u001b[49m\u001b[38;5;124;43m'\u001b[39;49m\u001b[38;5;124;43m(product_iri, 7)\u001b[39;49m\u001b[38;5;124;43m'\u001b[39;49m\u001b[43m)\u001b[49m\n",
      "File \u001b[0;32m/opt/tljh/user/envs/sentier/lib/python3.12/site-packages/IPython/core/interactiveshell.py:2480\u001b[0m, in \u001b[0;36mInteractiveShell.run_line_magic\u001b[0;34m(self, magic_name, line, _stack_depth)\u001b[0m\n\u001b[1;32m   2478\u001b[0m     kwargs[\u001b[38;5;124m'\u001b[39m\u001b[38;5;124mlocal_ns\u001b[39m\u001b[38;5;124m'\u001b[39m] \u001b[38;5;241m=\u001b[39m \u001b[38;5;28mself\u001b[39m\u001b[38;5;241m.\u001b[39mget_local_scope(stack_depth)\n\u001b[1;32m   2479\u001b[0m \u001b[38;5;28;01mwith\u001b[39;00m \u001b[38;5;28mself\u001b[39m\u001b[38;5;241m.\u001b[39mbuiltin_trap:\n\u001b[0;32m-> 2480\u001b[0m     result \u001b[38;5;241m=\u001b[39m \u001b[43mfn\u001b[49m\u001b[43m(\u001b[49m\u001b[38;5;241;43m*\u001b[39;49m\u001b[43margs\u001b[49m\u001b[43m,\u001b[49m\u001b[43m \u001b[49m\u001b[38;5;241;43m*\u001b[39;49m\u001b[38;5;241;43m*\u001b[39;49m\u001b[43mkwargs\u001b[49m\u001b[43m)\u001b[49m\n\u001b[1;32m   2482\u001b[0m \u001b[38;5;66;03m# The code below prevents the output from being displayed\u001b[39;00m\n\u001b[1;32m   2483\u001b[0m \u001b[38;5;66;03m# when using magics with decorator @output_can_be_silenced\u001b[39;00m\n\u001b[1;32m   2484\u001b[0m \u001b[38;5;66;03m# when the last Python token in the expression is a ';'.\u001b[39;00m\n\u001b[1;32m   2485\u001b[0m \u001b[38;5;28;01mif\u001b[39;00m \u001b[38;5;28mgetattr\u001b[39m(fn, magic\u001b[38;5;241m.\u001b[39mMAGIC_OUTPUT_CAN_BE_SILENCED, \u001b[38;5;28;01mFalse\u001b[39;00m):\n",
      "File \u001b[0;32m/opt/tljh/user/envs/sentier/lib/python3.12/site-packages/IPython/core/magics/execution.py:727\u001b[0m, in \u001b[0;36mExecutionMagics.run\u001b[0;34m(self, parameter_s, runner, file_finder)\u001b[0m\n\u001b[1;32m    725\u001b[0m     \u001b[38;5;28;01mif\u001b[39;00m os\u001b[38;5;241m.\u001b[39mname \u001b[38;5;241m==\u001b[39m \u001b[38;5;124m'\u001b[39m\u001b[38;5;124mnt\u001b[39m\u001b[38;5;124m'\u001b[39m \u001b[38;5;129;01mand\u001b[39;00m re\u001b[38;5;241m.\u001b[39mmatch(\u001b[38;5;124mr\u001b[39m\u001b[38;5;124m\"\u001b[39m\u001b[38;5;124m^\u001b[39m\u001b[38;5;124m'\u001b[39m\u001b[38;5;124m.*\u001b[39m\u001b[38;5;124m'\u001b[39m\u001b[38;5;124m$\u001b[39m\u001b[38;5;124m\"\u001b[39m,fpath):\n\u001b[1;32m    726\u001b[0m         warn(\u001b[38;5;124m'\u001b[39m\u001b[38;5;124mFor Windows, use double quotes to wrap a filename: \u001b[39m\u001b[38;5;132;01m%r\u001b[39;00m\u001b[38;5;124mun \u001b[39m\u001b[38;5;124m\"\u001b[39m\u001b[38;5;124mmypath\u001b[39m\u001b[38;5;130;01m\\\\\u001b[39;00m\u001b[38;5;124mmyfile.py\u001b[39m\u001b[38;5;124m\"\u001b[39m\u001b[38;5;124m'\u001b[39m)\n\u001b[0;32m--> 727\u001b[0m     \u001b[38;5;28;01mraise\u001b[39;00m \u001b[38;5;167;01mException\u001b[39;00m(msg) \u001b[38;5;28;01mfrom\u001b[39;00m \u001b[38;5;21;01me\u001b[39;00m\n\u001b[1;32m    728\u001b[0m \u001b[38;5;28;01mexcept\u001b[39;00m \u001b[38;5;167;01mTypeError\u001b[39;00m:\n\u001b[1;32m    729\u001b[0m     \u001b[38;5;28;01mif\u001b[39;00m fpath \u001b[38;5;129;01min\u001b[39;00m sys\u001b[38;5;241m.\u001b[39mmeta_path:\n",
      "\u001b[0;31mException\u001b[0m: File `'(product_iri,'` not found."
     ]
    }
   ],
   "source": [
    "run(product_iri, 7)"
   ]
  },
  {
   "cell_type": "markdown",
   "id": "14ed6f44-fae8-4210-8ef3-b92c41fabb4f",
   "metadata": {},
   "source": [
    "# function.py"
   ]
  },
  {
   "cell_type": "code",
   "execution_count": 5,
   "id": "f1e41bf8-876d-4975-9152-5ba57d2c8e2d",
   "metadata": {},
   "outputs": [],
   "source": [
    "from sentier_data_tools.iri import ProductIRI"
   ]
  },
  {
   "cell_type": "code",
   "execution_count": 6,
   "id": "8b89a6ba-9f5c-4d39-8082-70053c056d6c",
   "metadata": {},
   "outputs": [],
   "source": [
    "import function"
   ]
  },
  {
   "cell_type": "code",
   "execution_count": 7,
   "id": "2b921681-29c7-4bbf-961d-33acb1fbaf92",
   "metadata": {},
   "outputs": [],
   "source": [
    "product_iri = ProductIRI(\"http://data.europa.eu/xsp/cn2024/100500000080\")"
   ]
  },
  {
   "cell_type": "code",
   "execution_count": 4,
   "id": "da04694d-a3e1-438a-ae47-c8703b5ffe20",
   "metadata": {},
   "outputs": [
    {
     "data": {
      "text/plain": [
       "'<http://data.europa.eu/xsp/cn2024/100500000080>: 1005 Maize (corn) (product)'"
      ]
     },
     "execution_count": 4,
     "metadata": {},
     "output_type": "execute_result"
    }
   ],
   "source": [
    "product_iri.display()"
   ]
  },
  {
   "cell_type": "code",
   "execution_count": 5,
   "id": "11448499-9260-47e4-834c-31262e257ec6",
   "metadata": {},
   "outputs": [
    {
     "name": "stdout",
     "output_type": "stream",
     "text": [
      "\u001b[2m09:52:08\u001b[0m [\u001b[32m\u001b[1minfo     \u001b[0m] \u001b[1mRetrieved 17 triples from https://fuseki.d-d-s.ch/skosmos/query\u001b[0m\n",
      "\u001b[2m09:52:08\u001b[0m [\u001b[32m\u001b[1minfo     \u001b[0m] \u001b[1mRetrieved 17 triples from https://fuseki.d-d-s.ch/skosmos/query\u001b[0m\n",
      "\u001b[2m09:52:08\u001b[0m [\u001b[32m\u001b[1minfo     \u001b[0m] \u001b[1mRetrieved 7 triples from https://fuseki.d-d-s.ch/skosmos/query\u001b[0m\n"
     ]
    }
   ],
   "source": [
    "unique_product = [ product_iri.broader()[0], product_iri.broader()[1], product_iri.narrower()[0]]"
   ]
  },
  {
   "cell_type": "code",
   "execution_count": 6,
   "id": "54aab86e-a862-4c67-9ccb-c9f310505010",
   "metadata": {},
   "outputs": [
    {
     "data": {
      "text/plain": [
       "[<http://data.europa.eu/xsp/cn2024/100021000090>: CHAPTER 10 - CEREALS (product),\n",
       " <http://data.europa.eu/xsp/cn2024/060011000090>: SECTION II - VEGETABLE PRODUCTS (product),\n",
       " <http://data.europa.eu/xsp/cn2024/100590000080>: Other (product)]"
      ]
     },
     "execution_count": 6,
     "metadata": {},
     "output_type": "execute_result"
    }
   ],
   "source": [
    "unique_product"
   ]
  },
  {
   "cell_type": "code",
   "execution_count": 7,
   "id": "1e70b4b6-e3c4-4225-ab81-cfa4e4875939",
   "metadata": {},
   "outputs": [
    {
     "name": "stdout",
     "output_type": "stream",
     "text": [
      "\u001b[2m09:52:09\u001b[0m [\u001b[32m\u001b[1minfo     \u001b[0m] \u001b[1mRetrieved 17 triples from https://fuseki.d-d-s.ch/skosmos/query\u001b[0m\n"
     ]
    },
    {
     "name": "stderr",
     "output_type": "stream",
     "text": [
      "INFO: Found broader match for <http://data.europa.eu/xsp/cn2024/100021000090>: CHAPTER 10 - CEREALS (product)\n"
     ]
    }
   ],
   "source": [
    "match_IRI = function.find_match_IRI(product_iri, unique_product)"
   ]
  },
  {
   "cell_type": "code",
   "execution_count": 16,
   "id": "f215b510-a448-460a-bd7b-4604eb8d405a",
   "metadata": {},
   "outputs": [],
   "source": [
    "df = pd.read_csv(\"../docs/EF.csv\", sep=';')\n",
    "productIRI_columns_list = ['crop_iri', 'fert_iri']\n",
    "\n",
    "df[productIRI_columns_list] = df[productIRI_columns_list].map(lambda x : ProductIRI(x))"
   ]
  },
  {
   "cell_type": "code",
   "execution_count": 18,
   "id": "acba418a-e124-4bbc-99ce-d4ab4b6f69bb",
   "metadata": {},
   "outputs": [
    {
     "data": {
      "text/plain": [
       "<http://data.europa.eu/xsp/cn2024/060011000090>: SECTION II - VEGETABLE PRODUCTS (product)"
      ]
     },
     "execution_count": 18,
     "metadata": {},
     "output_type": "execute_result"
    }
   ],
   "source": [
    "df['crop_iri'][0]"
   ]
  },
  {
   "cell_type": "code",
   "execution_count": 19,
   "id": "adf88422-ef68-4e3d-8137-ad7bac578041",
   "metadata": {},
   "outputs": [
    {
     "data": {
      "text/plain": [
       "'http://data.europa.eu/xsp/cn2024/060011000090'"
      ]
     },
     "execution_count": 19,
     "metadata": {},
     "output_type": "execute_result"
    }
   ],
   "source": [
    "df_emission_factors['crop_iri'][0]"
   ]
  },
  {
   "cell_type": "code",
   "execution_count": 12,
   "id": "1911bdff-e412-405e-b90a-c14dd392b9b9",
   "metadata": {},
   "outputs": [],
   "source": [
    "\n",
    "def create_mineral_fertilizer_data():\n",
    "    \n",
    "    df_fertiliser = pd.read_csv(\"https://raw.githubusercontent.com/ludemannc/FUBC_1_to_9_2022/refs/heads/main/results/FUBC_1_to_9_data.csv\")\n",
    "    crops = ['Rice', 'Wheat', 'Maize', 'Potatoes']\n",
    "    df_fertiliser['N_t_ha'] = df_fertiliser['N_k_t'] / df_fertiliser['Crop_area_k_ha']    \n",
    "    df_fertiliser = df_fertiliser.query(\"Crop in @crops\")\n",
    "    df_fertiliser = df_fertiliser[['Crop', 'Year', 'ISO3_code', 'N_t_ha']]\n",
    "    df_fertiliser[\"Year\"] = df_fertiliser[\"Year\"].str[0:4]\n",
    "    df_fertiliser[\"Country\"] = df_fertiliser.ISO3_code.apply(lambda code: \"https://sws.geonames.org/\" + str(lookup_geonameid[code]))\n",
    "    df_fertiliser['CropIRI'] = df_fertiliser.Crop.apply(lambda name: crop_IRIs[name])\n",
    "    df_fertiliser['N_kg_m2'] = df_fertiliser['N_t_ha'] * 1000 / 10000    \n",
    "    years = df_fertiliser[\"Year\"].str[0:4].unique()\n",
    "    df_fertiliser = df_fertiliser[[\"Year\", \"Country\", \"CropIRI\", \"N_kg_m2\"]]\n",
    "    df_fertiliser[\"Datasource\"] = \"FAO\"\n",
    "    return df_fertiliser"
   ]
  },
  {
   "cell_type": "code",
   "execution_count": null,
   "id": "210a730c-2a7a-44b4-8364-4b9562a29999",
   "metadata": {},
   "outputs": [],
   "source": []
  }
 ],
 "metadata": {
  "kernelspec": {
   "display_name": "Python [conda env:sentier]",
   "language": "python",
   "name": "conda-env-sentier-py"
  },
  "language_info": {
   "codemirror_mode": {
    "name": "ipython",
    "version": 3
   },
   "file_extension": ".py",
   "mimetype": "text/x-python",
   "name": "python",
   "nbconvert_exporter": "python",
   "pygments_lexer": "ipython3",
   "version": "3.12.7"
  }
 },
 "nbformat": 4,
 "nbformat_minor": 5
}
