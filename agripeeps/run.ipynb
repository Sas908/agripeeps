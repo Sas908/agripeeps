{
 "cells": [
  {
   "cell_type": "code",
   "execution_count": 1,
   "id": "aff0adc2-78db-4c9d-aa02-7ac88f247fef",
   "metadata": {},
   "outputs": [],
   "source": [
    "%run main.py"
   ]
  },
  {
   "cell_type": "code",
   "execution_count": 2,
   "id": "beed2575-cdaf-460b-9b17-069af6545b3f",
   "metadata": {},
   "outputs": [],
   "source": [
    "amount = 7"
   ]
  },
  {
   "cell_type": "code",
   "execution_count": 3,
   "id": "9880c803-59cc-4050-a33c-ab76e9bc0710",
   "metadata": {},
   "outputs": [],
   "source": [
    "product_iri = ProductIRI(\"http://data.europa.eu/xsp/cn2024/100500000080\")"
   ]
  },
  {
   "cell_type": "code",
   "execution_count": 4,
   "id": "68abead4-a350-4e1c-a980-e918ee06c131",
   "metadata": {},
   "outputs": [],
   "source": [
    "user_input = UserInput(\n",
    "    product_iri=product_iri,\n",
    "    unit = 'kg',\n",
    "    amount=amount\n",
    ")"
   ]
  },
  {
   "cell_type": "code",
   "execution_count": 5,
   "id": "ad8a2a88-c7bb-4c6e-8aa1-6afa668b939f",
   "metadata": {},
   "outputs": [
    {
     "data": {
      "text/plain": [
       "UserInput(product_iri=<http://data.europa.eu/xsp/cn2024/100500000080>: 1005 Maize (corn) (product), unit='kg', amount=7.0, crop_yield=None, fertilizer_amount=None, begin_date=None, end_date=None)"
      ]
     },
     "execution_count": 5,
     "metadata": {},
     "output_type": "execute_result"
    }
   ],
   "source": [
    "user_input"
   ]
  },
  {
   "cell_type": "code",
   "execution_count": 6,
   "id": "8aea2f8d-6ae3-4d5d-b3f9-b6356eedde46",
   "metadata": {},
   "outputs": [],
   "source": [
    "run_config = RunConfig()"
   ]
  },
  {
   "cell_type": "code",
   "execution_count": 7,
   "id": "37116239-07bd-469e-a7ab-899c1225c995",
   "metadata": {},
   "outputs": [],
   "source": [
    "crop = Crop(user_input = user_input, run_config = run_config)"
   ]
  },
  {
   "cell_type": "code",
   "execution_count": 8,
   "id": "44aef00b-2c83-4928-ae48-dd7d7e8fccd0",
   "metadata": {},
   "outputs": [
    {
     "name": "stderr",
     "output_type": "stream",
     "text": [
      "INFO: Getting master db\n",
      "INFO: Getting crop yield and fertilizer amount\n"
     ]
    },
    {
     "name": "stdout",
     "output_type": "stream",
     "text": [
      "\u001b[2m12:25:39\u001b[0m [\u001b[32m\u001b[1minfo     \u001b[0m] \u001b[1mRetrieved 17 triples from https://fuseki.d-d-s.ch/skosmos/query\u001b[0m\n"
     ]
    },
    {
     "name": "stderr",
     "output_type": "stream",
     "text": [
      "INFO: Found broader match for <http://data.europa.eu/xsp/cn2024/060011000090>: SECTION II - VEGETABLE PRODUCTS (product)\n",
      "INFO:                                          crop_iri  \\\n",
      "9   http://data.europa.eu/xsp/cn2024/060011000090   \n",
      "10  http://data.europa.eu/xsp/cn2024/060011000090   \n",
      "11  http://data.europa.eu/xsp/cn2024/060011000090   \n",
      "12  http://data.europa.eu/xsp/cn2024/060011000090   \n",
      "13  http://data.europa.eu/xsp/cn2024/060011000090   \n",
      "14  http://data.europa.eu/xsp/cn2024/060011000090   \n",
      "15  http://data.europa.eu/xsp/cn2024/060011000090   \n",
      "16  http://data.europa.eu/xsp/cn2024/060011000090   \n",
      "17  http://data.europa.eu/xsp/cn2024/060011000090   \n",
      "\n",
      "                                         fert_iri climate_type  fert_type  \\\n",
      "9   http://data.europa.eu/xsp/cn2024/310200000080          wet  inorganic   \n",
      "10  http://data.europa.eu/xsp/cn2024/310200000080          wet  inorganic   \n",
      "11  http://data.europa.eu/xsp/cn2024/310200000080          wet  inorganic   \n",
      "12  http://data.europa.eu/xsp/cn2024/310200000080          wet    organic   \n",
      "13  http://data.europa.eu/xsp/cn2024/310200000080          wet    organic   \n",
      "14  http://data.europa.eu/xsp/cn2024/310200000080          wet    organic   \n",
      "15  http://data.europa.eu/xsp/cn2024/310200000080          wet   residual   \n",
      "16  http://data.europa.eu/xsp/cn2024/310200000080          wet   residual   \n",
      "17  http://data.europa.eu/xsp/cn2024/310200000080          wet   residual   \n",
      "\n",
      "   value_type  emission_factor  emission [kg_N20/ha]  \n",
      "9       value            0.016                  1.76  \n",
      "10        min            0.013                  1.43  \n",
      "11        max            0.019                  2.09  \n",
      "12      value            0.006                  0.66  \n",
      "13        min            0.001                  0.11  \n",
      "14        max            0.011                  1.21  \n",
      "15      value            0.006                  0.66  \n",
      "16        min            0.001                  0.11  \n",
      "17        max            0.011                  1.21  \n"
     ]
    },
    {
     "name": "stdout",
     "output_type": "stream",
     "text": [
      "\u001b[2m12:25:39\u001b[0m [\u001b[32m\u001b[1minfo     \u001b[0m] \u001b[1mRetrieved 17 triples from https://fuseki.d-d-s.ch/skosmos/query\u001b[0m\n"
     ]
    },
    {
     "name": "stderr",
     "output_type": "stream",
     "text": [
      "INFO: Found broader match for <http://data.europa.eu/xsp/cn2024/060011000090>: SECTION II - VEGETABLE PRODUCTS (product)\n",
      "INFO:                                         crop_iri  \\\n",
      "0  http://data.europa.eu/xsp/cn2024/060011000090   \n",
      "1  http://data.europa.eu/xsp/cn2024/060011000090   \n",
      "2  http://data.europa.eu/xsp/cn2024/060011000090   \n",
      "\n",
      "                                        fert_iri climate_type fert_type  \\\n",
      "0  http://data.europa.eu/xsp/cn2024/310200000080          dry   default   \n",
      "1  http://data.europa.eu/xsp/cn2024/310200000080          dry   default   \n",
      "2  http://data.europa.eu/xsp/cn2024/310200000080          dry   default   \n",
      "\n",
      "  value_type  emission_factor  emission [kg_N20/ha]  \n",
      "0      value            0.005                  0.55  \n",
      "1        min            0.000                  0.00  \n",
      "2        max            0.011                  1.21  \n",
      "INFO: Getting emission from fertilizer\n"
     ]
    },
    {
     "name": "stdout",
     "output_type": "stream",
     "text": [
      "wet                                          crop_iri  \\\n",
      "9   http://data.europa.eu/xsp/cn2024/060011000090   \n",
      "10  http://data.europa.eu/xsp/cn2024/060011000090   \n",
      "11  http://data.europa.eu/xsp/cn2024/060011000090   \n",
      "12  http://data.europa.eu/xsp/cn2024/060011000090   \n",
      "13  http://data.europa.eu/xsp/cn2024/060011000090   \n",
      "14  http://data.europa.eu/xsp/cn2024/060011000090   \n",
      "15  http://data.europa.eu/xsp/cn2024/060011000090   \n",
      "16  http://data.europa.eu/xsp/cn2024/060011000090   \n",
      "17  http://data.europa.eu/xsp/cn2024/060011000090   \n",
      "\n",
      "                                         fert_iri climate_type  fert_type  \\\n",
      "9   http://data.europa.eu/xsp/cn2024/310200000080          wet  inorganic   \n",
      "10  http://data.europa.eu/xsp/cn2024/310200000080          wet  inorganic   \n",
      "11  http://data.europa.eu/xsp/cn2024/310200000080          wet  inorganic   \n",
      "12  http://data.europa.eu/xsp/cn2024/310200000080          wet    organic   \n",
      "13  http://data.europa.eu/xsp/cn2024/310200000080          wet    organic   \n",
      "14  http://data.europa.eu/xsp/cn2024/310200000080          wet    organic   \n",
      "15  http://data.europa.eu/xsp/cn2024/310200000080          wet   residual   \n",
      "16  http://data.europa.eu/xsp/cn2024/310200000080          wet   residual   \n",
      "17  http://data.europa.eu/xsp/cn2024/310200000080          wet   residual   \n",
      "\n",
      "   value_type  emission_factor  emission [kg_N20/ha]  \n",
      "9       value            0.016                  1.76  \n",
      "10        min            0.013                  1.43  \n",
      "11        max            0.019                  2.09  \n",
      "12      value            0.006                  0.66  \n",
      "13        min            0.001                  0.11  \n",
      "14        max            0.011                  1.21  \n",
      "15      value            0.006                  0.66  \n",
      "16        min            0.001                  0.11  \n",
      "17        max            0.011                  1.21  \n",
      "dry                                         crop_iri  \\\n",
      "0  http://data.europa.eu/xsp/cn2024/060011000090   \n",
      "1  http://data.europa.eu/xsp/cn2024/060011000090   \n",
      "2  http://data.europa.eu/xsp/cn2024/060011000090   \n",
      "\n",
      "                                        fert_iri climate_type fert_type  \\\n",
      "0  http://data.europa.eu/xsp/cn2024/310200000080          dry   default   \n",
      "1  http://data.europa.eu/xsp/cn2024/310200000080          dry   default   \n",
      "2  http://data.europa.eu/xsp/cn2024/310200000080          dry   default   \n",
      "\n",
      "  value_type  emission_factor  emission [kg_N20/ha]  \n",
      "0      value            0.005                  0.55  \n",
      "1        min            0.000                  0.00  \n",
      "2        max            0.011                  1.21  \n"
     ]
    }
   ],
   "source": [
    "resulting_demands = crop.run()"
   ]
  },
  {
   "cell_type": "code",
   "execution_count": null,
   "id": "b3f25220-515f-4474-89d5-f3d2427fba02",
   "metadata": {},
   "outputs": [],
   "source": [
    "resulting_demands"
   ]
  },
  {
   "cell_type": "markdown",
   "id": "b825b735-a3e7-49d5-98a2-2ca803e62ac7",
   "metadata": {},
   "source": [
    "# Main tst SentierModel"
   ]
  },
  {
   "cell_type": "code",
   "execution_count": null,
   "id": "9981d8dc-665d-4dfc-bcfd-4587b8a39073",
   "metadata": {},
   "outputs": [],
   "source": [
    "import sentier_data_tools"
   ]
  },
  {
   "cell_type": "code",
   "execution_count": null,
   "id": "2c0388a3-6c3e-4ea8-8271-55ec64325f56",
   "metadata": {},
   "outputs": [],
   "source": [
    "sentier_data_tools.__version__"
   ]
  },
  {
   "cell_type": "code",
   "execution_count": null,
   "id": "39d124c8-38bd-4f98-9745-6238b258def9",
   "metadata": {},
   "outputs": [],
   "source": [
    "%run main_tst.py"
   ]
  },
  {
   "cell_type": "markdown",
   "id": "afaadba9-4511-497d-9503-5184ef7e0e04",
   "metadata": {},
   "source": [
    "# n2OToAirInorganicFertiliserDirect_dev.py"
   ]
  },
  {
   "cell_type": "code",
   "execution_count": 1,
   "id": "49e01b60-3a47-4385-820a-11a65693c1f2",
   "metadata": {},
   "outputs": [],
   "source": [
    "import n2OToAirInorganicFertiliserDirect_dev as n2o"
   ]
  },
  {
   "cell_type": "code",
   "execution_count": 2,
   "id": "c804cbd4-ea7c-4628-96a6-0150a4f60ddb",
   "metadata": {},
   "outputs": [],
   "source": [
    "import pandas as pd"
   ]
  },
  {
   "cell_type": "code",
   "execution_count": 9,
   "id": "58cecc4f-f290-4e43-919c-888f67796884",
   "metadata": {},
   "outputs": [],
   "source": [
    "product_iri = ProductIRI(\"http://data.europa.eu/xsp/cn2024/100500000080\")"
   ]
  },
  {
   "cell_type": "code",
   "execution_count": 10,
   "id": "6a336123-a603-4bf0-8473-e4f26d25aeba",
   "metadata": {},
   "outputs": [
    {
     "ename": "Exception",
     "evalue": "File `'(product_iri,'` not found.",
     "output_type": "error",
     "traceback": [
      "\u001b[0;31m---------------------------------------------------------------------------\u001b[0m",
      "\u001b[0;31mOSError\u001b[0m                                   Traceback (most recent call last)",
      "File \u001b[0;32m/opt/tljh/user/envs/sentier/lib/python3.12/site-packages/IPython/core/magics/execution.py:716\u001b[0m, in \u001b[0;36mExecutionMagics.run\u001b[0;34m(self, parameter_s, runner, file_finder)\u001b[0m\n\u001b[1;32m    715\u001b[0m     fpath \u001b[38;5;241m=\u001b[39m arg_lst[\u001b[38;5;241m0\u001b[39m]\n\u001b[0;32m--> 716\u001b[0m     filename \u001b[38;5;241m=\u001b[39m \u001b[43mfile_finder\u001b[49m\u001b[43m(\u001b[49m\u001b[43mfpath\u001b[49m\u001b[43m)\u001b[49m\n\u001b[1;32m    717\u001b[0m \u001b[38;5;28;01mexcept\u001b[39;00m \u001b[38;5;167;01mIndexError\u001b[39;00m \u001b[38;5;28;01mas\u001b[39;00m e:\n",
      "File \u001b[0;32m/opt/tljh/user/envs/sentier/lib/python3.12/site-packages/IPython/utils/path.py:91\u001b[0m, in \u001b[0;36mget_py_filename\u001b[0;34m(name)\u001b[0m\n\u001b[1;32m     90\u001b[0m         \u001b[38;5;28;01mreturn\u001b[39;00m py_name\n\u001b[0;32m---> 91\u001b[0m \u001b[38;5;28;01mraise\u001b[39;00m \u001b[38;5;167;01mIOError\u001b[39;00m(\u001b[38;5;124m\"\u001b[39m\u001b[38;5;124mFile `\u001b[39m\u001b[38;5;132;01m%r\u001b[39;00m\u001b[38;5;124m` not found.\u001b[39m\u001b[38;5;124m\"\u001b[39m \u001b[38;5;241m%\u001b[39m name)\n",
      "\u001b[0;31mOSError\u001b[0m: File `'(product_iri,'` not found.",
      "\nThe above exception was the direct cause of the following exception:\n",
      "\u001b[0;31mException\u001b[0m                                 Traceback (most recent call last)",
      "Cell \u001b[0;32mIn[10], line 1\u001b[0m\n\u001b[0;32m----> 1\u001b[0m \u001b[43mget_ipython\u001b[49m\u001b[43m(\u001b[49m\u001b[43m)\u001b[49m\u001b[38;5;241;43m.\u001b[39;49m\u001b[43mrun_line_magic\u001b[49m\u001b[43m(\u001b[49m\u001b[38;5;124;43m'\u001b[39;49m\u001b[38;5;124;43mrun\u001b[39;49m\u001b[38;5;124;43m'\u001b[39;49m\u001b[43m,\u001b[49m\u001b[43m \u001b[49m\u001b[38;5;124;43m'\u001b[39;49m\u001b[38;5;124;43m(product_iri, 7)\u001b[39;49m\u001b[38;5;124;43m'\u001b[39;49m\u001b[43m)\u001b[49m\n",
      "File \u001b[0;32m/opt/tljh/user/envs/sentier/lib/python3.12/site-packages/IPython/core/interactiveshell.py:2480\u001b[0m, in \u001b[0;36mInteractiveShell.run_line_magic\u001b[0;34m(self, magic_name, line, _stack_depth)\u001b[0m\n\u001b[1;32m   2478\u001b[0m     kwargs[\u001b[38;5;124m'\u001b[39m\u001b[38;5;124mlocal_ns\u001b[39m\u001b[38;5;124m'\u001b[39m] \u001b[38;5;241m=\u001b[39m \u001b[38;5;28mself\u001b[39m\u001b[38;5;241m.\u001b[39mget_local_scope(stack_depth)\n\u001b[1;32m   2479\u001b[0m \u001b[38;5;28;01mwith\u001b[39;00m \u001b[38;5;28mself\u001b[39m\u001b[38;5;241m.\u001b[39mbuiltin_trap:\n\u001b[0;32m-> 2480\u001b[0m     result \u001b[38;5;241m=\u001b[39m \u001b[43mfn\u001b[49m\u001b[43m(\u001b[49m\u001b[38;5;241;43m*\u001b[39;49m\u001b[43margs\u001b[49m\u001b[43m,\u001b[49m\u001b[43m \u001b[49m\u001b[38;5;241;43m*\u001b[39;49m\u001b[38;5;241;43m*\u001b[39;49m\u001b[43mkwargs\u001b[49m\u001b[43m)\u001b[49m\n\u001b[1;32m   2482\u001b[0m \u001b[38;5;66;03m# The code below prevents the output from being displayed\u001b[39;00m\n\u001b[1;32m   2483\u001b[0m \u001b[38;5;66;03m# when using magics with decorator @output_can_be_silenced\u001b[39;00m\n\u001b[1;32m   2484\u001b[0m \u001b[38;5;66;03m# when the last Python token in the expression is a ';'.\u001b[39;00m\n\u001b[1;32m   2485\u001b[0m \u001b[38;5;28;01mif\u001b[39;00m \u001b[38;5;28mgetattr\u001b[39m(fn, magic\u001b[38;5;241m.\u001b[39mMAGIC_OUTPUT_CAN_BE_SILENCED, \u001b[38;5;28;01mFalse\u001b[39;00m):\n",
      "File \u001b[0;32m/opt/tljh/user/envs/sentier/lib/python3.12/site-packages/IPython/core/magics/execution.py:727\u001b[0m, in \u001b[0;36mExecutionMagics.run\u001b[0;34m(self, parameter_s, runner, file_finder)\u001b[0m\n\u001b[1;32m    725\u001b[0m     \u001b[38;5;28;01mif\u001b[39;00m os\u001b[38;5;241m.\u001b[39mname \u001b[38;5;241m==\u001b[39m \u001b[38;5;124m'\u001b[39m\u001b[38;5;124mnt\u001b[39m\u001b[38;5;124m'\u001b[39m \u001b[38;5;129;01mand\u001b[39;00m re\u001b[38;5;241m.\u001b[39mmatch(\u001b[38;5;124mr\u001b[39m\u001b[38;5;124m\"\u001b[39m\u001b[38;5;124m^\u001b[39m\u001b[38;5;124m'\u001b[39m\u001b[38;5;124m.*\u001b[39m\u001b[38;5;124m'\u001b[39m\u001b[38;5;124m$\u001b[39m\u001b[38;5;124m\"\u001b[39m,fpath):\n\u001b[1;32m    726\u001b[0m         warn(\u001b[38;5;124m'\u001b[39m\u001b[38;5;124mFor Windows, use double quotes to wrap a filename: \u001b[39m\u001b[38;5;132;01m%r\u001b[39;00m\u001b[38;5;124mun \u001b[39m\u001b[38;5;124m\"\u001b[39m\u001b[38;5;124mmypath\u001b[39m\u001b[38;5;130;01m\\\\\u001b[39;00m\u001b[38;5;124mmyfile.py\u001b[39m\u001b[38;5;124m\"\u001b[39m\u001b[38;5;124m'\u001b[39m)\n\u001b[0;32m--> 727\u001b[0m     \u001b[38;5;28;01mraise\u001b[39;00m \u001b[38;5;167;01mException\u001b[39;00m(msg) \u001b[38;5;28;01mfrom\u001b[39;00m \u001b[38;5;21;01me\u001b[39;00m\n\u001b[1;32m    728\u001b[0m \u001b[38;5;28;01mexcept\u001b[39;00m \u001b[38;5;167;01mTypeError\u001b[39;00m:\n\u001b[1;32m    729\u001b[0m     \u001b[38;5;28;01mif\u001b[39;00m fpath \u001b[38;5;129;01min\u001b[39;00m sys\u001b[38;5;241m.\u001b[39mmeta_path:\n",
      "\u001b[0;31mException\u001b[0m: File `'(product_iri,'` not found."
     ]
    }
   ],
   "source": [
    "run(product_iri, 7)"
   ]
  },
  {
   "cell_type": "markdown",
   "id": "14ed6f44-fae8-4210-8ef3-b92c41fabb4f",
   "metadata": {},
   "source": [
    "# function.py"
   ]
  },
  {
   "cell_type": "code",
   "execution_count": 5,
   "id": "f1e41bf8-876d-4975-9152-5ba57d2c8e2d",
   "metadata": {},
   "outputs": [],
   "source": [
    "from sentier_data_tools.iri import ProductIRI"
   ]
  },
  {
   "cell_type": "code",
   "execution_count": 6,
   "id": "8b89a6ba-9f5c-4d39-8082-70053c056d6c",
   "metadata": {},
   "outputs": [],
   "source": [
    "import function"
   ]
  },
  {
   "cell_type": "code",
   "execution_count": 7,
   "id": "2b921681-29c7-4bbf-961d-33acb1fbaf92",
   "metadata": {},
   "outputs": [],
   "source": [
    "product_iri = ProductIRI(\"http://data.europa.eu/xsp/cn2024/100500000080\")"
   ]
  },
  {
   "cell_type": "code",
   "execution_count": 4,
   "id": "da04694d-a3e1-438a-ae47-c8703b5ffe20",
   "metadata": {},
   "outputs": [
    {
     "data": {
      "text/plain": [
       "'<http://data.europa.eu/xsp/cn2024/100500000080>: 1005 Maize (corn) (product)'"
      ]
     },
     "execution_count": 4,
     "metadata": {},
     "output_type": "execute_result"
    }
   ],
   "source": [
    "product_iri.display()"
   ]
  },
  {
   "cell_type": "code",
   "execution_count": 5,
   "id": "11448499-9260-47e4-834c-31262e257ec6",
   "metadata": {},
   "outputs": [
    {
     "name": "stdout",
     "output_type": "stream",
     "text": [
      "\u001b[2m09:52:08\u001b[0m [\u001b[32m\u001b[1minfo     \u001b[0m] \u001b[1mRetrieved 17 triples from https://fuseki.d-d-s.ch/skosmos/query\u001b[0m\n",
      "\u001b[2m09:52:08\u001b[0m [\u001b[32m\u001b[1minfo     \u001b[0m] \u001b[1mRetrieved 17 triples from https://fuseki.d-d-s.ch/skosmos/query\u001b[0m\n",
      "\u001b[2m09:52:08\u001b[0m [\u001b[32m\u001b[1minfo     \u001b[0m] \u001b[1mRetrieved 7 triples from https://fuseki.d-d-s.ch/skosmos/query\u001b[0m\n"
     ]
    }
   ],
   "source": [
    "unique_product = [ product_iri.broader()[0], product_iri.broader()[1], product_iri.narrower()[0]]"
   ]
  },
  {
   "cell_type": "code",
   "execution_count": 6,
   "id": "54aab86e-a862-4c67-9ccb-c9f310505010",
   "metadata": {},
   "outputs": [
    {
     "data": {
      "text/plain": [
       "[<http://data.europa.eu/xsp/cn2024/100021000090>: CHAPTER 10 - CEREALS (product),\n",
       " <http://data.europa.eu/xsp/cn2024/060011000090>: SECTION II - VEGETABLE PRODUCTS (product),\n",
       " <http://data.europa.eu/xsp/cn2024/100590000080>: Other (product)]"
      ]
     },
     "execution_count": 6,
     "metadata": {},
     "output_type": "execute_result"
    }
   ],
   "source": [
    "unique_product"
   ]
  },
  {
   "cell_type": "code",
   "execution_count": 7,
   "id": "1e70b4b6-e3c4-4225-ab81-cfa4e4875939",
   "metadata": {},
   "outputs": [
    {
     "name": "stdout",
     "output_type": "stream",
     "text": [
      "\u001b[2m09:52:09\u001b[0m [\u001b[32m\u001b[1minfo     \u001b[0m] \u001b[1mRetrieved 17 triples from https://fuseki.d-d-s.ch/skosmos/query\u001b[0m\n"
     ]
    },
    {
     "name": "stderr",
     "output_type": "stream",
     "text": [
      "INFO: Found broader match for <http://data.europa.eu/xsp/cn2024/100021000090>: CHAPTER 10 - CEREALS (product)\n"
     ]
    }
   ],
   "source": [
    "match_IRI = function.find_match_IRI(product_iri, unique_product)"
   ]
  },
  {
   "cell_type": "code",
   "execution_count": 16,
   "id": "f215b510-a448-460a-bd7b-4604eb8d405a",
   "metadata": {},
   "outputs": [],
   "source": [
    "df = pd.read_csv(\"../docs/EF.csv\", sep=';')\n",
    "productIRI_columns_list = ['crop_iri', 'fert_iri']\n",
    "\n",
    "df[productIRI_columns_list] = df[productIRI_columns_list].map(lambda x : ProductIRI(x))"
   ]
  },
  {
   "cell_type": "code",
   "execution_count": 18,
   "id": "acba418a-e124-4bbc-99ce-d4ab4b6f69bb",
   "metadata": {},
   "outputs": [
    {
     "data": {
      "text/plain": [
       "<http://data.europa.eu/xsp/cn2024/060011000090>: SECTION II - VEGETABLE PRODUCTS (product)"
      ]
     },
     "execution_count": 18,
     "metadata": {},
     "output_type": "execute_result"
    }
   ],
   "source": [
    "df['crop_iri'][0]"
   ]
  },
  {
   "cell_type": "code",
   "execution_count": 19,
   "id": "adf88422-ef68-4e3d-8137-ad7bac578041",
   "metadata": {},
   "outputs": [
    {
     "data": {
      "text/plain": [
       "'http://data.europa.eu/xsp/cn2024/060011000090'"
      ]
     },
     "execution_count": 19,
     "metadata": {},
     "output_type": "execute_result"
    }
   ],
   "source": [
    "df_emission_factors['crop_iri'][0]"
   ]
  },
  {
   "cell_type": "code",
   "execution_count": null,
   "id": "1911bdff-e412-405e-b90a-c14dd392b9b9",
   "metadata": {},
   "outputs": [],
   "source": []
  }
 ],
 "metadata": {
  "kernelspec": {
   "display_name": "Python [conda env:sentier]",
   "language": "python",
   "name": "conda-env-sentier-py"
  },
  "language_info": {
   "codemirror_mode": {
    "name": "ipython",
    "version": 3
   },
   "file_extension": ".py",
   "mimetype": "text/x-python",
   "name": "python",
   "nbconvert_exporter": "python",
   "pygments_lexer": "ipython3",
   "version": "3.12.7"
  }
 },
 "nbformat": 4,
 "nbformat_minor": 5
}
